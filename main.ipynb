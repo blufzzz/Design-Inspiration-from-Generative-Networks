{
  "nbformat": 4,
  "nbformat_minor": 0,
  "metadata": {
    "kernelspec": {
      "display_name": "Python 3",
      "language": "python",
      "name": "python3"
    },
    "language_info": {
      "codemirror_mode": {
        "name": "ipython",
        "version": 3
      },
      "file_extension": ".py",
      "mimetype": "text/x-python",
      "name": "python",
      "nbconvert_exporter": "python",
      "pygments_lexer": "ipython3",
      "version": "3.7.4"
    },
    "pycharm": {
      "stem_cell": {
        "cell_type": "raw",
        "source": [],
        "metadata": {
          "collapsed": false
        }
      }
    },
    "colab": {
      "name": "main.ipynb",
      "provenance": [],
      "collapsed_sections": []
    },
    "accelerator": "GPU",
    "widgets": {
      "application/vnd.jupyter.widget-state+json": {
        "d8254e72755d42f7a8381572e24bded5": {
          "model_module": "@jupyter-widgets/controls",
          "model_name": "HBoxModel",
          "state": {
            "_view_name": "HBoxView",
            "_dom_classes": [],
            "_model_name": "HBoxModel",
            "_view_module": "@jupyter-widgets/controls",
            "_model_module_version": "1.5.0",
            "_view_count": null,
            "_view_module_version": "1.5.0",
            "box_style": "",
            "layout": "IPY_MODEL_83210e1d0ce44765b496c43bddedf171",
            "_model_module": "@jupyter-widgets/controls",
            "children": [
              "IPY_MODEL_90f7c5af5e2e4d86974dda0de43434b8",
              "IPY_MODEL_cc669f0ae10448c0a3996bba4eae3ebb"
            ]
          }
        },
        "83210e1d0ce44765b496c43bddedf171": {
          "model_module": "@jupyter-widgets/base",
          "model_name": "LayoutModel",
          "state": {
            "_view_name": "LayoutView",
            "grid_template_rows": null,
            "right": null,
            "justify_content": null,
            "_view_module": "@jupyter-widgets/base",
            "overflow": null,
            "_model_module_version": "1.2.0",
            "_view_count": null,
            "flex_flow": null,
            "width": null,
            "min_width": null,
            "border": null,
            "align_items": null,
            "bottom": null,
            "_model_module": "@jupyter-widgets/base",
            "top": null,
            "grid_column": null,
            "overflow_y": null,
            "overflow_x": null,
            "grid_auto_flow": null,
            "grid_area": null,
            "grid_template_columns": null,
            "flex": null,
            "_model_name": "LayoutModel",
            "justify_items": null,
            "grid_row": null,
            "max_height": null,
            "align_content": null,
            "visibility": null,
            "align_self": null,
            "height": null,
            "min_height": null,
            "padding": null,
            "grid_auto_rows": null,
            "grid_gap": null,
            "max_width": null,
            "order": null,
            "_view_module_version": "1.2.0",
            "grid_template_areas": null,
            "object_position": null,
            "object_fit": null,
            "grid_auto_columns": null,
            "margin": null,
            "display": null,
            "left": null
          }
        },
        "90f7c5af5e2e4d86974dda0de43434b8": {
          "model_module": "@jupyter-widgets/controls",
          "model_name": "FloatProgressModel",
          "state": {
            "_view_name": "ProgressView",
            "style": "IPY_MODEL_abcb3d0a12b34a2cb7d046611e9172d3",
            "_dom_classes": [],
            "description": "100%",
            "_model_name": "FloatProgressModel",
            "bar_style": "success",
            "max": 9104,
            "_view_module": "@jupyter-widgets/controls",
            "_model_module_version": "1.5.0",
            "value": 9104,
            "_view_count": null,
            "_view_module_version": "1.5.0",
            "orientation": "horizontal",
            "min": 0,
            "description_tooltip": null,
            "_model_module": "@jupyter-widgets/controls",
            "layout": "IPY_MODEL_1ccb684b2f524c3fa1a55594d094998d"
          }
        },
        "cc669f0ae10448c0a3996bba4eae3ebb": {
          "model_module": "@jupyter-widgets/controls",
          "model_name": "HTMLModel",
          "state": {
            "_view_name": "HTMLView",
            "style": "IPY_MODEL_232dedb6ab9c451d96aab7a6a05a99b0",
            "_dom_classes": [],
            "description": "",
            "_model_name": "HTMLModel",
            "placeholder": "​",
            "_view_module": "@jupyter-widgets/controls",
            "_model_module_version": "1.5.0",
            "value": " 9104/9104 [01:23&lt;00:00, 108.82it/s]",
            "_view_count": null,
            "_view_module_version": "1.5.0",
            "description_tooltip": null,
            "_model_module": "@jupyter-widgets/controls",
            "layout": "IPY_MODEL_92cc431d18de4f8ead21c5462986038e"
          }
        },
        "abcb3d0a12b34a2cb7d046611e9172d3": {
          "model_module": "@jupyter-widgets/controls",
          "model_name": "ProgressStyleModel",
          "state": {
            "_view_name": "StyleView",
            "_model_name": "ProgressStyleModel",
            "description_width": "initial",
            "_view_module": "@jupyter-widgets/base",
            "_model_module_version": "1.5.0",
            "_view_count": null,
            "_view_module_version": "1.2.0",
            "bar_color": null,
            "_model_module": "@jupyter-widgets/controls"
          }
        },
        "1ccb684b2f524c3fa1a55594d094998d": {
          "model_module": "@jupyter-widgets/base",
          "model_name": "LayoutModel",
          "state": {
            "_view_name": "LayoutView",
            "grid_template_rows": null,
            "right": null,
            "justify_content": null,
            "_view_module": "@jupyter-widgets/base",
            "overflow": null,
            "_model_module_version": "1.2.0",
            "_view_count": null,
            "flex_flow": null,
            "width": null,
            "min_width": null,
            "border": null,
            "align_items": null,
            "bottom": null,
            "_model_module": "@jupyter-widgets/base",
            "top": null,
            "grid_column": null,
            "overflow_y": null,
            "overflow_x": null,
            "grid_auto_flow": null,
            "grid_area": null,
            "grid_template_columns": null,
            "flex": null,
            "_model_name": "LayoutModel",
            "justify_items": null,
            "grid_row": null,
            "max_height": null,
            "align_content": null,
            "visibility": null,
            "align_self": null,
            "height": null,
            "min_height": null,
            "padding": null,
            "grid_auto_rows": null,
            "grid_gap": null,
            "max_width": null,
            "order": null,
            "_view_module_version": "1.2.0",
            "grid_template_areas": null,
            "object_position": null,
            "object_fit": null,
            "grid_auto_columns": null,
            "margin": null,
            "display": null,
            "left": null
          }
        },
        "232dedb6ab9c451d96aab7a6a05a99b0": {
          "model_module": "@jupyter-widgets/controls",
          "model_name": "DescriptionStyleModel",
          "state": {
            "_view_name": "StyleView",
            "_model_name": "DescriptionStyleModel",
            "description_width": "",
            "_view_module": "@jupyter-widgets/base",
            "_model_module_version": "1.5.0",
            "_view_count": null,
            "_view_module_version": "1.2.0",
            "_model_module": "@jupyter-widgets/controls"
          }
        },
        "92cc431d18de4f8ead21c5462986038e": {
          "model_module": "@jupyter-widgets/base",
          "model_name": "LayoutModel",
          "state": {
            "_view_name": "LayoutView",
            "grid_template_rows": null,
            "right": null,
            "justify_content": null,
            "_view_module": "@jupyter-widgets/base",
            "overflow": null,
            "_model_module_version": "1.2.0",
            "_view_count": null,
            "flex_flow": null,
            "width": null,
            "min_width": null,
            "border": null,
            "align_items": null,
            "bottom": null,
            "_model_module": "@jupyter-widgets/base",
            "top": null,
            "grid_column": null,
            "overflow_y": null,
            "overflow_x": null,
            "grid_auto_flow": null,
            "grid_area": null,
            "grid_template_columns": null,
            "flex": null,
            "_model_name": "LayoutModel",
            "justify_items": null,
            "grid_row": null,
            "max_height": null,
            "align_content": null,
            "visibility": null,
            "align_self": null,
            "height": null,
            "min_height": null,
            "padding": null,
            "grid_auto_rows": null,
            "grid_gap": null,
            "max_width": null,
            "order": null,
            "_view_module_version": "1.2.0",
            "grid_template_areas": null,
            "object_position": null,
            "object_fit": null,
            "grid_auto_columns": null,
            "margin": null,
            "display": null,
            "left": null
          }
        },
        "1396a184eb014db78b9c098d0511ca7d": {
          "model_module": "@jupyter-widgets/controls",
          "model_name": "HBoxModel",
          "state": {
            "_view_name": "HBoxView",
            "_dom_classes": [],
            "_model_name": "HBoxModel",
            "_view_module": "@jupyter-widgets/controls",
            "_model_module_version": "1.5.0",
            "_view_count": null,
            "_view_module_version": "1.5.0",
            "box_style": "",
            "layout": "IPY_MODEL_0004fd45af0d4b389cd520277c981eb8",
            "_model_module": "@jupyter-widgets/controls",
            "children": [
              "IPY_MODEL_54f8e6a054cb4b29a9aa4fd36ccb53a4",
              "IPY_MODEL_e91b0b39801a46a78d21573e66ffcb4e"
            ]
          }
        },
        "0004fd45af0d4b389cd520277c981eb8": {
          "model_module": "@jupyter-widgets/base",
          "model_name": "LayoutModel",
          "state": {
            "_view_name": "LayoutView",
            "grid_template_rows": null,
            "right": null,
            "justify_content": null,
            "_view_module": "@jupyter-widgets/base",
            "overflow": null,
            "_model_module_version": "1.2.0",
            "_view_count": null,
            "flex_flow": null,
            "width": null,
            "min_width": null,
            "border": null,
            "align_items": null,
            "bottom": null,
            "_model_module": "@jupyter-widgets/base",
            "top": null,
            "grid_column": null,
            "overflow_y": null,
            "overflow_x": null,
            "grid_auto_flow": null,
            "grid_area": null,
            "grid_template_columns": null,
            "flex": null,
            "_model_name": "LayoutModel",
            "justify_items": null,
            "grid_row": null,
            "max_height": null,
            "align_content": null,
            "visibility": null,
            "align_self": null,
            "height": null,
            "min_height": null,
            "padding": null,
            "grid_auto_rows": null,
            "grid_gap": null,
            "max_width": null,
            "order": null,
            "_view_module_version": "1.2.0",
            "grid_template_areas": null,
            "object_position": null,
            "object_fit": null,
            "grid_auto_columns": null,
            "margin": null,
            "display": null,
            "left": null
          }
        },
        "54f8e6a054cb4b29a9aa4fd36ccb53a4": {
          "model_module": "@jupyter-widgets/controls",
          "model_name": "FloatProgressModel",
          "state": {
            "_view_name": "ProgressView",
            "style": "IPY_MODEL_4a608552f4884e4495affcca716f752e",
            "_dom_classes": [],
            "description": "100%",
            "_model_name": "FloatProgressModel",
            "bar_style": "success",
            "max": 150,
            "_view_module": "@jupyter-widgets/controls",
            "_model_module_version": "1.5.0",
            "value": 150,
            "_view_count": null,
            "_view_module_version": "1.5.0",
            "orientation": "horizontal",
            "min": 0,
            "description_tooltip": null,
            "_model_module": "@jupyter-widgets/controls",
            "layout": "IPY_MODEL_cfc6530df80e47629cda37ef8a085892"
          }
        },
        "e91b0b39801a46a78d21573e66ffcb4e": {
          "model_module": "@jupyter-widgets/controls",
          "model_name": "HTMLModel",
          "state": {
            "_view_name": "HTMLView",
            "style": "IPY_MODEL_30e2dec2607e4b51aeb61594337c659f",
            "_dom_classes": [],
            "description": "",
            "_model_name": "HTMLModel",
            "placeholder": "​",
            "_view_module": "@jupyter-widgets/controls",
            "_model_module_version": "1.5.0",
            "value": " 150/150 [00:03&lt;00:00, 44.92it/s]",
            "_view_count": null,
            "_view_module_version": "1.5.0",
            "description_tooltip": null,
            "_model_module": "@jupyter-widgets/controls",
            "layout": "IPY_MODEL_cd0a425c143e442aa3f81bed2d3fa0b9"
          }
        },
        "4a608552f4884e4495affcca716f752e": {
          "model_module": "@jupyter-widgets/controls",
          "model_name": "ProgressStyleModel",
          "state": {
            "_view_name": "StyleView",
            "_model_name": "ProgressStyleModel",
            "description_width": "initial",
            "_view_module": "@jupyter-widgets/base",
            "_model_module_version": "1.5.0",
            "_view_count": null,
            "_view_module_version": "1.2.0",
            "bar_color": null,
            "_model_module": "@jupyter-widgets/controls"
          }
        },
        "cfc6530df80e47629cda37ef8a085892": {
          "model_module": "@jupyter-widgets/base",
          "model_name": "LayoutModel",
          "state": {
            "_view_name": "LayoutView",
            "grid_template_rows": null,
            "right": null,
            "justify_content": null,
            "_view_module": "@jupyter-widgets/base",
            "overflow": null,
            "_model_module_version": "1.2.0",
            "_view_count": null,
            "flex_flow": null,
            "width": null,
            "min_width": null,
            "border": null,
            "align_items": null,
            "bottom": null,
            "_model_module": "@jupyter-widgets/base",
            "top": null,
            "grid_column": null,
            "overflow_y": null,
            "overflow_x": null,
            "grid_auto_flow": null,
            "grid_area": null,
            "grid_template_columns": null,
            "flex": null,
            "_model_name": "LayoutModel",
            "justify_items": null,
            "grid_row": null,
            "max_height": null,
            "align_content": null,
            "visibility": null,
            "align_self": null,
            "height": null,
            "min_height": null,
            "padding": null,
            "grid_auto_rows": null,
            "grid_gap": null,
            "max_width": null,
            "order": null,
            "_view_module_version": "1.2.0",
            "grid_template_areas": null,
            "object_position": null,
            "object_fit": null,
            "grid_auto_columns": null,
            "margin": null,
            "display": null,
            "left": null
          }
        },
        "30e2dec2607e4b51aeb61594337c659f": {
          "model_module": "@jupyter-widgets/controls",
          "model_name": "DescriptionStyleModel",
          "state": {
            "_view_name": "StyleView",
            "_model_name": "DescriptionStyleModel",
            "description_width": "",
            "_view_module": "@jupyter-widgets/base",
            "_model_module_version": "1.5.0",
            "_view_count": null,
            "_view_module_version": "1.2.0",
            "_model_module": "@jupyter-widgets/controls"
          }
        },
        "cd0a425c143e442aa3f81bed2d3fa0b9": {
          "model_module": "@jupyter-widgets/base",
          "model_name": "LayoutModel",
          "state": {
            "_view_name": "LayoutView",
            "grid_template_rows": null,
            "right": null,
            "justify_content": null,
            "_view_module": "@jupyter-widgets/base",
            "overflow": null,
            "_model_module_version": "1.2.0",
            "_view_count": null,
            "flex_flow": null,
            "width": null,
            "min_width": null,
            "border": null,
            "align_items": null,
            "bottom": null,
            "_model_module": "@jupyter-widgets/base",
            "top": null,
            "grid_column": null,
            "overflow_y": null,
            "overflow_x": null,
            "grid_auto_flow": null,
            "grid_area": null,
            "grid_template_columns": null,
            "flex": null,
            "_model_name": "LayoutModel",
            "justify_items": null,
            "grid_row": null,
            "max_height": null,
            "align_content": null,
            "visibility": null,
            "align_self": null,
            "height": null,
            "min_height": null,
            "padding": null,
            "grid_auto_rows": null,
            "grid_gap": null,
            "max_width": null,
            "order": null,
            "_view_module_version": "1.2.0",
            "grid_template_areas": null,
            "object_position": null,
            "object_fit": null,
            "grid_auto_columns": null,
            "margin": null,
            "display": null,
            "left": null
          }
        },
        "03ab3c57215249188b1aef00ab097b79": {
          "model_module": "@jupyter-widgets/controls",
          "model_name": "HBoxModel",
          "state": {
            "_view_name": "HBoxView",
            "_dom_classes": [],
            "_model_name": "HBoxModel",
            "_view_module": "@jupyter-widgets/controls",
            "_model_module_version": "1.5.0",
            "_view_count": null,
            "_view_module_version": "1.5.0",
            "box_style": "",
            "layout": "IPY_MODEL_f099eb1003c0428d804037450fc827d0",
            "_model_module": "@jupyter-widgets/controls",
            "children": [
              "IPY_MODEL_9eff58bcf66941c99442b176f4f96398",
              "IPY_MODEL_f82e2157ff464ed49c943ee7da23e314"
            ]
          }
        },
        "f099eb1003c0428d804037450fc827d0": {
          "model_module": "@jupyter-widgets/base",
          "model_name": "LayoutModel",
          "state": {
            "_view_name": "LayoutView",
            "grid_template_rows": null,
            "right": null,
            "justify_content": null,
            "_view_module": "@jupyter-widgets/base",
            "overflow": null,
            "_model_module_version": "1.2.0",
            "_view_count": null,
            "flex_flow": null,
            "width": null,
            "min_width": null,
            "border": null,
            "align_items": null,
            "bottom": null,
            "_model_module": "@jupyter-widgets/base",
            "top": null,
            "grid_column": null,
            "overflow_y": null,
            "overflow_x": null,
            "grid_auto_flow": null,
            "grid_area": null,
            "grid_template_columns": null,
            "flex": null,
            "_model_name": "LayoutModel",
            "justify_items": null,
            "grid_row": null,
            "max_height": null,
            "align_content": null,
            "visibility": null,
            "align_self": null,
            "height": null,
            "min_height": null,
            "padding": null,
            "grid_auto_rows": null,
            "grid_gap": null,
            "max_width": null,
            "order": null,
            "_view_module_version": "1.2.0",
            "grid_template_areas": null,
            "object_position": null,
            "object_fit": null,
            "grid_auto_columns": null,
            "margin": null,
            "display": null,
            "left": null
          }
        },
        "9eff58bcf66941c99442b176f4f96398": {
          "model_module": "@jupyter-widgets/controls",
          "model_name": "FloatProgressModel",
          "state": {
            "_view_name": "ProgressView",
            "style": "IPY_MODEL_45aa50d084b24fc7861931484baf86d0",
            "_dom_classes": [],
            "description": "100%",
            "_model_name": "FloatProgressModel",
            "bar_style": "success",
            "max": 150,
            "_view_module": "@jupyter-widgets/controls",
            "_model_module_version": "1.5.0",
            "value": 150,
            "_view_count": null,
            "_view_module_version": "1.5.0",
            "orientation": "horizontal",
            "min": 0,
            "description_tooltip": null,
            "_model_module": "@jupyter-widgets/controls",
            "layout": "IPY_MODEL_c10b9dd381c34b02a962c95418e1ef5a"
          }
        },
        "f82e2157ff464ed49c943ee7da23e314": {
          "model_module": "@jupyter-widgets/controls",
          "model_name": "HTMLModel",
          "state": {
            "_view_name": "HTMLView",
            "style": "IPY_MODEL_c242c699123c4230b96ad08ebcfe060b",
            "_dom_classes": [],
            "description": "",
            "_model_name": "HTMLModel",
            "placeholder": "​",
            "_view_module": "@jupyter-widgets/controls",
            "_model_module_version": "1.5.0",
            "value": " 150/150 [00:02&lt;00:00, 72.66it/s]",
            "_view_count": null,
            "_view_module_version": "1.5.0",
            "description_tooltip": null,
            "_model_module": "@jupyter-widgets/controls",
            "layout": "IPY_MODEL_26c02a81fce14c4b92d32086dc9cbe12"
          }
        },
        "45aa50d084b24fc7861931484baf86d0": {
          "model_module": "@jupyter-widgets/controls",
          "model_name": "ProgressStyleModel",
          "state": {
            "_view_name": "StyleView",
            "_model_name": "ProgressStyleModel",
            "description_width": "initial",
            "_view_module": "@jupyter-widgets/base",
            "_model_module_version": "1.5.0",
            "_view_count": null,
            "_view_module_version": "1.2.0",
            "bar_color": null,
            "_model_module": "@jupyter-widgets/controls"
          }
        },
        "c10b9dd381c34b02a962c95418e1ef5a": {
          "model_module": "@jupyter-widgets/base",
          "model_name": "LayoutModel",
          "state": {
            "_view_name": "LayoutView",
            "grid_template_rows": null,
            "right": null,
            "justify_content": null,
            "_view_module": "@jupyter-widgets/base",
            "overflow": null,
            "_model_module_version": "1.2.0",
            "_view_count": null,
            "flex_flow": null,
            "width": null,
            "min_width": null,
            "border": null,
            "align_items": null,
            "bottom": null,
            "_model_module": "@jupyter-widgets/base",
            "top": null,
            "grid_column": null,
            "overflow_y": null,
            "overflow_x": null,
            "grid_auto_flow": null,
            "grid_area": null,
            "grid_template_columns": null,
            "flex": null,
            "_model_name": "LayoutModel",
            "justify_items": null,
            "grid_row": null,
            "max_height": null,
            "align_content": null,
            "visibility": null,
            "align_self": null,
            "height": null,
            "min_height": null,
            "padding": null,
            "grid_auto_rows": null,
            "grid_gap": null,
            "max_width": null,
            "order": null,
            "_view_module_version": "1.2.0",
            "grid_template_areas": null,
            "object_position": null,
            "object_fit": null,
            "grid_auto_columns": null,
            "margin": null,
            "display": null,
            "left": null
          }
        },
        "c242c699123c4230b96ad08ebcfe060b": {
          "model_module": "@jupyter-widgets/controls",
          "model_name": "DescriptionStyleModel",
          "state": {
            "_view_name": "StyleView",
            "_model_name": "DescriptionStyleModel",
            "description_width": "",
            "_view_module": "@jupyter-widgets/base",
            "_model_module_version": "1.5.0",
            "_view_count": null,
            "_view_module_version": "1.2.0",
            "_model_module": "@jupyter-widgets/controls"
          }
        },
        "26c02a81fce14c4b92d32086dc9cbe12": {
          "model_module": "@jupyter-widgets/base",
          "model_name": "LayoutModel",
          "state": {
            "_view_name": "LayoutView",
            "grid_template_rows": null,
            "right": null,
            "justify_content": null,
            "_view_module": "@jupyter-widgets/base",
            "overflow": null,
            "_model_module_version": "1.2.0",
            "_view_count": null,
            "flex_flow": null,
            "width": null,
            "min_width": null,
            "border": null,
            "align_items": null,
            "bottom": null,
            "_model_module": "@jupyter-widgets/base",
            "top": null,
            "grid_column": null,
            "overflow_y": null,
            "overflow_x": null,
            "grid_auto_flow": null,
            "grid_area": null,
            "grid_template_columns": null,
            "flex": null,
            "_model_name": "LayoutModel",
            "justify_items": null,
            "grid_row": null,
            "max_height": null,
            "align_content": null,
            "visibility": null,
            "align_self": null,
            "height": null,
            "min_height": null,
            "padding": null,
            "grid_auto_rows": null,
            "grid_gap": null,
            "max_width": null,
            "order": null,
            "_view_module_version": "1.2.0",
            "grid_template_areas": null,
            "object_position": null,
            "object_fit": null,
            "grid_auto_columns": null,
            "margin": null,
            "display": null,
            "left": null
          }
        },
        "1809fc0cca6d447cb3fdf782662fa647": {
          "model_module": "@jupyter-widgets/controls",
          "model_name": "HBoxModel",
          "state": {
            "_view_name": "HBoxView",
            "_dom_classes": [],
            "_model_name": "HBoxModel",
            "_view_module": "@jupyter-widgets/controls",
            "_model_module_version": "1.5.0",
            "_view_count": null,
            "_view_module_version": "1.5.0",
            "box_style": "",
            "layout": "IPY_MODEL_376d7900d6354a02b2a3d1804fca2a53",
            "_model_module": "@jupyter-widgets/controls",
            "children": [
              "IPY_MODEL_63381aafe4e24aa4ae353abc9427f105",
              "IPY_MODEL_b15a46583ad74ee8abffe3b41ba44cdc"
            ]
          }
        },
        "376d7900d6354a02b2a3d1804fca2a53": {
          "model_module": "@jupyter-widgets/base",
          "model_name": "LayoutModel",
          "state": {
            "_view_name": "LayoutView",
            "grid_template_rows": null,
            "right": null,
            "justify_content": null,
            "_view_module": "@jupyter-widgets/base",
            "overflow": null,
            "_model_module_version": "1.2.0",
            "_view_count": null,
            "flex_flow": null,
            "width": null,
            "min_width": null,
            "border": null,
            "align_items": null,
            "bottom": null,
            "_model_module": "@jupyter-widgets/base",
            "top": null,
            "grid_column": null,
            "overflow_y": null,
            "overflow_x": null,
            "grid_auto_flow": null,
            "grid_area": null,
            "grid_template_columns": null,
            "flex": null,
            "_model_name": "LayoutModel",
            "justify_items": null,
            "grid_row": null,
            "max_height": null,
            "align_content": null,
            "visibility": null,
            "align_self": null,
            "height": null,
            "min_height": null,
            "padding": null,
            "grid_auto_rows": null,
            "grid_gap": null,
            "max_width": null,
            "order": null,
            "_view_module_version": "1.2.0",
            "grid_template_areas": null,
            "object_position": null,
            "object_fit": null,
            "grid_auto_columns": null,
            "margin": null,
            "display": null,
            "left": null
          }
        },
        "63381aafe4e24aa4ae353abc9427f105": {
          "model_module": "@jupyter-widgets/controls",
          "model_name": "FloatProgressModel",
          "state": {
            "_view_name": "ProgressView",
            "style": "IPY_MODEL_84461101fbcc41199bffd6f9702d6d29",
            "_dom_classes": [],
            "description": "100%",
            "_model_name": "FloatProgressModel",
            "bar_style": "success",
            "max": 150,
            "_view_module": "@jupyter-widgets/controls",
            "_model_module_version": "1.5.0",
            "value": 150,
            "_view_count": null,
            "_view_module_version": "1.5.0",
            "orientation": "horizontal",
            "min": 0,
            "description_tooltip": null,
            "_model_module": "@jupyter-widgets/controls",
            "layout": "IPY_MODEL_80680b4adf484aa595ca610138b96ae7"
          }
        },
        "b15a46583ad74ee8abffe3b41ba44cdc": {
          "model_module": "@jupyter-widgets/controls",
          "model_name": "HTMLModel",
          "state": {
            "_view_name": "HTMLView",
            "style": "IPY_MODEL_47a28a66e2374b83a653c1bb3b013bfd",
            "_dom_classes": [],
            "description": "",
            "_model_name": "HTMLModel",
            "placeholder": "​",
            "_view_module": "@jupyter-widgets/controls",
            "_model_module_version": "1.5.0",
            "value": " 150/150 [00:03&lt;00:00, 39.45it/s]",
            "_view_count": null,
            "_view_module_version": "1.5.0",
            "description_tooltip": null,
            "_model_module": "@jupyter-widgets/controls",
            "layout": "IPY_MODEL_9f74ad26f7a84c4f89446fb30e7c86cf"
          }
        },
        "84461101fbcc41199bffd6f9702d6d29": {
          "model_module": "@jupyter-widgets/controls",
          "model_name": "ProgressStyleModel",
          "state": {
            "_view_name": "StyleView",
            "_model_name": "ProgressStyleModel",
            "description_width": "initial",
            "_view_module": "@jupyter-widgets/base",
            "_model_module_version": "1.5.0",
            "_view_count": null,
            "_view_module_version": "1.2.0",
            "bar_color": null,
            "_model_module": "@jupyter-widgets/controls"
          }
        },
        "80680b4adf484aa595ca610138b96ae7": {
          "model_module": "@jupyter-widgets/base",
          "model_name": "LayoutModel",
          "state": {
            "_view_name": "LayoutView",
            "grid_template_rows": null,
            "right": null,
            "justify_content": null,
            "_view_module": "@jupyter-widgets/base",
            "overflow": null,
            "_model_module_version": "1.2.0",
            "_view_count": null,
            "flex_flow": null,
            "width": null,
            "min_width": null,
            "border": null,
            "align_items": null,
            "bottom": null,
            "_model_module": "@jupyter-widgets/base",
            "top": null,
            "grid_column": null,
            "overflow_y": null,
            "overflow_x": null,
            "grid_auto_flow": null,
            "grid_area": null,
            "grid_template_columns": null,
            "flex": null,
            "_model_name": "LayoutModel",
            "justify_items": null,
            "grid_row": null,
            "max_height": null,
            "align_content": null,
            "visibility": null,
            "align_self": null,
            "height": null,
            "min_height": null,
            "padding": null,
            "grid_auto_rows": null,
            "grid_gap": null,
            "max_width": null,
            "order": null,
            "_view_module_version": "1.2.0",
            "grid_template_areas": null,
            "object_position": null,
            "object_fit": null,
            "grid_auto_columns": null,
            "margin": null,
            "display": null,
            "left": null
          }
        },
        "47a28a66e2374b83a653c1bb3b013bfd": {
          "model_module": "@jupyter-widgets/controls",
          "model_name": "DescriptionStyleModel",
          "state": {
            "_view_name": "StyleView",
            "_model_name": "DescriptionStyleModel",
            "description_width": "",
            "_view_module": "@jupyter-widgets/base",
            "_model_module_version": "1.5.0",
            "_view_count": null,
            "_view_module_version": "1.2.0",
            "_model_module": "@jupyter-widgets/controls"
          }
        },
        "9f74ad26f7a84c4f89446fb30e7c86cf": {
          "model_module": "@jupyter-widgets/base",
          "model_name": "LayoutModel",
          "state": {
            "_view_name": "LayoutView",
            "grid_template_rows": null,
            "right": null,
            "justify_content": null,
            "_view_module": "@jupyter-widgets/base",
            "overflow": null,
            "_model_module_version": "1.2.0",
            "_view_count": null,
            "flex_flow": null,
            "width": null,
            "min_width": null,
            "border": null,
            "align_items": null,
            "bottom": null,
            "_model_module": "@jupyter-widgets/base",
            "top": null,
            "grid_column": null,
            "overflow_y": null,
            "overflow_x": null,
            "grid_auto_flow": null,
            "grid_area": null,
            "grid_template_columns": null,
            "flex": null,
            "_model_name": "LayoutModel",
            "justify_items": null,
            "grid_row": null,
            "max_height": null,
            "align_content": null,
            "visibility": null,
            "align_self": null,
            "height": null,
            "min_height": null,
            "padding": null,
            "grid_auto_rows": null,
            "grid_gap": null,
            "max_width": null,
            "order": null,
            "_view_module_version": "1.2.0",
            "grid_template_areas": null,
            "object_position": null,
            "object_fit": null,
            "grid_auto_columns": null,
            "margin": null,
            "display": null,
            "left": null
          }
        },
        "ed3cdcb2223b4352b7638741d6cd00f8": {
          "model_module": "@jupyter-widgets/controls",
          "model_name": "HBoxModel",
          "state": {
            "_view_name": "HBoxView",
            "_dom_classes": [],
            "_model_name": "HBoxModel",
            "_view_module": "@jupyter-widgets/controls",
            "_model_module_version": "1.5.0",
            "_view_count": null,
            "_view_module_version": "1.5.0",
            "box_style": "",
            "layout": "IPY_MODEL_b376a64b61894216b526d95f9cf7fea5",
            "_model_module": "@jupyter-widgets/controls",
            "children": [
              "IPY_MODEL_09922453e164435581d92c2cccdc6d0e",
              "IPY_MODEL_8fb076d0cb0c4c80a9f3dd521bd5c553"
            ]
          }
        },
        "b376a64b61894216b526d95f9cf7fea5": {
          "model_module": "@jupyter-widgets/base",
          "model_name": "LayoutModel",
          "state": {
            "_view_name": "LayoutView",
            "grid_template_rows": null,
            "right": null,
            "justify_content": null,
            "_view_module": "@jupyter-widgets/base",
            "overflow": null,
            "_model_module_version": "1.2.0",
            "_view_count": null,
            "flex_flow": null,
            "width": null,
            "min_width": null,
            "border": null,
            "align_items": null,
            "bottom": null,
            "_model_module": "@jupyter-widgets/base",
            "top": null,
            "grid_column": null,
            "overflow_y": null,
            "overflow_x": null,
            "grid_auto_flow": null,
            "grid_area": null,
            "grid_template_columns": null,
            "flex": null,
            "_model_name": "LayoutModel",
            "justify_items": null,
            "grid_row": null,
            "max_height": null,
            "align_content": null,
            "visibility": null,
            "align_self": null,
            "height": null,
            "min_height": null,
            "padding": null,
            "grid_auto_rows": null,
            "grid_gap": null,
            "max_width": null,
            "order": null,
            "_view_module_version": "1.2.0",
            "grid_template_areas": null,
            "object_position": null,
            "object_fit": null,
            "grid_auto_columns": null,
            "margin": null,
            "display": null,
            "left": null
          }
        },
        "09922453e164435581d92c2cccdc6d0e": {
          "model_module": "@jupyter-widgets/controls",
          "model_name": "FloatProgressModel",
          "state": {
            "_view_name": "ProgressView",
            "style": "IPY_MODEL_c93d27eb52f84554aec2789821eb70e6",
            "_dom_classes": [],
            "description": "100%",
            "_model_name": "FloatProgressModel",
            "bar_style": "success",
            "max": 150,
            "_view_module": "@jupyter-widgets/controls",
            "_model_module_version": "1.5.0",
            "value": 150,
            "_view_count": null,
            "_view_module_version": "1.5.0",
            "orientation": "horizontal",
            "min": 0,
            "description_tooltip": null,
            "_model_module": "@jupyter-widgets/controls",
            "layout": "IPY_MODEL_1f1ee6dd062a424bb1c5d7ec4bebb1d7"
          }
        },
        "8fb076d0cb0c4c80a9f3dd521bd5c553": {
          "model_module": "@jupyter-widgets/controls",
          "model_name": "HTMLModel",
          "state": {
            "_view_name": "HTMLView",
            "style": "IPY_MODEL_f55a3c09e3ac4ed8b239daeb9c3c7b9f",
            "_dom_classes": [],
            "description": "",
            "_model_name": "HTMLModel",
            "placeholder": "​",
            "_view_module": "@jupyter-widgets/controls",
            "_model_module_version": "1.5.0",
            "value": " 150/150 [00:01&lt;00:00, 83.37it/s]",
            "_view_count": null,
            "_view_module_version": "1.5.0",
            "description_tooltip": null,
            "_model_module": "@jupyter-widgets/controls",
            "layout": "IPY_MODEL_dd5f0df1957441ecafb9c0c5434d83a6"
          }
        },
        "c93d27eb52f84554aec2789821eb70e6": {
          "model_module": "@jupyter-widgets/controls",
          "model_name": "ProgressStyleModel",
          "state": {
            "_view_name": "StyleView",
            "_model_name": "ProgressStyleModel",
            "description_width": "initial",
            "_view_module": "@jupyter-widgets/base",
            "_model_module_version": "1.5.0",
            "_view_count": null,
            "_view_module_version": "1.2.0",
            "bar_color": null,
            "_model_module": "@jupyter-widgets/controls"
          }
        },
        "1f1ee6dd062a424bb1c5d7ec4bebb1d7": {
          "model_module": "@jupyter-widgets/base",
          "model_name": "LayoutModel",
          "state": {
            "_view_name": "LayoutView",
            "grid_template_rows": null,
            "right": null,
            "justify_content": null,
            "_view_module": "@jupyter-widgets/base",
            "overflow": null,
            "_model_module_version": "1.2.0",
            "_view_count": null,
            "flex_flow": null,
            "width": null,
            "min_width": null,
            "border": null,
            "align_items": null,
            "bottom": null,
            "_model_module": "@jupyter-widgets/base",
            "top": null,
            "grid_column": null,
            "overflow_y": null,
            "overflow_x": null,
            "grid_auto_flow": null,
            "grid_area": null,
            "grid_template_columns": null,
            "flex": null,
            "_model_name": "LayoutModel",
            "justify_items": null,
            "grid_row": null,
            "max_height": null,
            "align_content": null,
            "visibility": null,
            "align_self": null,
            "height": null,
            "min_height": null,
            "padding": null,
            "grid_auto_rows": null,
            "grid_gap": null,
            "max_width": null,
            "order": null,
            "_view_module_version": "1.2.0",
            "grid_template_areas": null,
            "object_position": null,
            "object_fit": null,
            "grid_auto_columns": null,
            "margin": null,
            "display": null,
            "left": null
          }
        },
        "f55a3c09e3ac4ed8b239daeb9c3c7b9f": {
          "model_module": "@jupyter-widgets/controls",
          "model_name": "DescriptionStyleModel",
          "state": {
            "_view_name": "StyleView",
            "_model_name": "DescriptionStyleModel",
            "description_width": "",
            "_view_module": "@jupyter-widgets/base",
            "_model_module_version": "1.5.0",
            "_view_count": null,
            "_view_module_version": "1.2.0",
            "_model_module": "@jupyter-widgets/controls"
          }
        },
        "dd5f0df1957441ecafb9c0c5434d83a6": {
          "model_module": "@jupyter-widgets/base",
          "model_name": "LayoutModel",
          "state": {
            "_view_name": "LayoutView",
            "grid_template_rows": null,
            "right": null,
            "justify_content": null,
            "_view_module": "@jupyter-widgets/base",
            "overflow": null,
            "_model_module_version": "1.2.0",
            "_view_count": null,
            "flex_flow": null,
            "width": null,
            "min_width": null,
            "border": null,
            "align_items": null,
            "bottom": null,
            "_model_module": "@jupyter-widgets/base",
            "top": null,
            "grid_column": null,
            "overflow_y": null,
            "overflow_x": null,
            "grid_auto_flow": null,
            "grid_area": null,
            "grid_template_columns": null,
            "flex": null,
            "_model_name": "LayoutModel",
            "justify_items": null,
            "grid_row": null,
            "max_height": null,
            "align_content": null,
            "visibility": null,
            "align_self": null,
            "height": null,
            "min_height": null,
            "padding": null,
            "grid_auto_rows": null,
            "grid_gap": null,
            "max_width": null,
            "order": null,
            "_view_module_version": "1.2.0",
            "grid_template_areas": null,
            "object_position": null,
            "object_fit": null,
            "grid_auto_columns": null,
            "margin": null,
            "display": null,
            "left": null
          }
        },
        "b626674abd154f5f9344df7895272ce0": {
          "model_module": "@jupyter-widgets/controls",
          "model_name": "HBoxModel",
          "state": {
            "_view_name": "HBoxView",
            "_dom_classes": [],
            "_model_name": "HBoxModel",
            "_view_module": "@jupyter-widgets/controls",
            "_model_module_version": "1.5.0",
            "_view_count": null,
            "_view_module_version": "1.5.0",
            "box_style": "",
            "layout": "IPY_MODEL_068fc539ddc744069297046f7478de1f",
            "_model_module": "@jupyter-widgets/controls",
            "children": [
              "IPY_MODEL_4f7859719c2b4f7f862c4a5ddbb755cd",
              "IPY_MODEL_6e263ed43bf14bd09931f9f7c940abe1"
            ]
          }
        },
        "068fc539ddc744069297046f7478de1f": {
          "model_module": "@jupyter-widgets/base",
          "model_name": "LayoutModel",
          "state": {
            "_view_name": "LayoutView",
            "grid_template_rows": null,
            "right": null,
            "justify_content": null,
            "_view_module": "@jupyter-widgets/base",
            "overflow": null,
            "_model_module_version": "1.2.0",
            "_view_count": null,
            "flex_flow": null,
            "width": null,
            "min_width": null,
            "border": null,
            "align_items": null,
            "bottom": null,
            "_model_module": "@jupyter-widgets/base",
            "top": null,
            "grid_column": null,
            "overflow_y": null,
            "overflow_x": null,
            "grid_auto_flow": null,
            "grid_area": null,
            "grid_template_columns": null,
            "flex": null,
            "_model_name": "LayoutModel",
            "justify_items": null,
            "grid_row": null,
            "max_height": null,
            "align_content": null,
            "visibility": null,
            "align_self": null,
            "height": null,
            "min_height": null,
            "padding": null,
            "grid_auto_rows": null,
            "grid_gap": null,
            "max_width": null,
            "order": null,
            "_view_module_version": "1.2.0",
            "grid_template_areas": null,
            "object_position": null,
            "object_fit": null,
            "grid_auto_columns": null,
            "margin": null,
            "display": null,
            "left": null
          }
        },
        "4f7859719c2b4f7f862c4a5ddbb755cd": {
          "model_module": "@jupyter-widgets/controls",
          "model_name": "FloatProgressModel",
          "state": {
            "_view_name": "ProgressView",
            "style": "IPY_MODEL_aeacdc6c3aae466bba372f42621dc01a",
            "_dom_classes": [],
            "description": "100%",
            "_model_name": "FloatProgressModel",
            "bar_style": "success",
            "max": 188,
            "_view_module": "@jupyter-widgets/controls",
            "_model_module_version": "1.5.0",
            "value": 188,
            "_view_count": null,
            "_view_module_version": "1.5.0",
            "orientation": "horizontal",
            "min": 0,
            "description_tooltip": null,
            "_model_module": "@jupyter-widgets/controls",
            "layout": "IPY_MODEL_dec616bcba834b509229f65e7462a4dc"
          }
        },
        "6e263ed43bf14bd09931f9f7c940abe1": {
          "model_module": "@jupyter-widgets/controls",
          "model_name": "HTMLModel",
          "state": {
            "_view_name": "HTMLView",
            "style": "IPY_MODEL_803ed398b5e34234841ef52f08de2d16",
            "_dom_classes": [],
            "description": "",
            "_model_name": "HTMLModel",
            "placeholder": "​",
            "_view_module": "@jupyter-widgets/controls",
            "_model_module_version": "1.5.0",
            "value": " 188/188 [02:52&lt;00:00,  1.09it/s]",
            "_view_count": null,
            "_view_module_version": "1.5.0",
            "description_tooltip": null,
            "_model_module": "@jupyter-widgets/controls",
            "layout": "IPY_MODEL_72945cbb82844451b343b920c5ebbaf7"
          }
        },
        "aeacdc6c3aae466bba372f42621dc01a": {
          "model_module": "@jupyter-widgets/controls",
          "model_name": "ProgressStyleModel",
          "state": {
            "_view_name": "StyleView",
            "_model_name": "ProgressStyleModel",
            "description_width": "initial",
            "_view_module": "@jupyter-widgets/base",
            "_model_module_version": "1.5.0",
            "_view_count": null,
            "_view_module_version": "1.2.0",
            "bar_color": null,
            "_model_module": "@jupyter-widgets/controls"
          }
        },
        "dec616bcba834b509229f65e7462a4dc": {
          "model_module": "@jupyter-widgets/base",
          "model_name": "LayoutModel",
          "state": {
            "_view_name": "LayoutView",
            "grid_template_rows": null,
            "right": null,
            "justify_content": null,
            "_view_module": "@jupyter-widgets/base",
            "overflow": null,
            "_model_module_version": "1.2.0",
            "_view_count": null,
            "flex_flow": null,
            "width": null,
            "min_width": null,
            "border": null,
            "align_items": null,
            "bottom": null,
            "_model_module": "@jupyter-widgets/base",
            "top": null,
            "grid_column": null,
            "overflow_y": null,
            "overflow_x": null,
            "grid_auto_flow": null,
            "grid_area": null,
            "grid_template_columns": null,
            "flex": null,
            "_model_name": "LayoutModel",
            "justify_items": null,
            "grid_row": null,
            "max_height": null,
            "align_content": null,
            "visibility": null,
            "align_self": null,
            "height": null,
            "min_height": null,
            "padding": null,
            "grid_auto_rows": null,
            "grid_gap": null,
            "max_width": null,
            "order": null,
            "_view_module_version": "1.2.0",
            "grid_template_areas": null,
            "object_position": null,
            "object_fit": null,
            "grid_auto_columns": null,
            "margin": null,
            "display": null,
            "left": null
          }
        },
        "803ed398b5e34234841ef52f08de2d16": {
          "model_module": "@jupyter-widgets/controls",
          "model_name": "DescriptionStyleModel",
          "state": {
            "_view_name": "StyleView",
            "_model_name": "DescriptionStyleModel",
            "description_width": "",
            "_view_module": "@jupyter-widgets/base",
            "_model_module_version": "1.5.0",
            "_view_count": null,
            "_view_module_version": "1.2.0",
            "_model_module": "@jupyter-widgets/controls"
          }
        },
        "72945cbb82844451b343b920c5ebbaf7": {
          "model_module": "@jupyter-widgets/base",
          "model_name": "LayoutModel",
          "state": {
            "_view_name": "LayoutView",
            "grid_template_rows": null,
            "right": null,
            "justify_content": null,
            "_view_module": "@jupyter-widgets/base",
            "overflow": null,
            "_model_module_version": "1.2.0",
            "_view_count": null,
            "flex_flow": null,
            "width": null,
            "min_width": null,
            "border": null,
            "align_items": null,
            "bottom": null,
            "_model_module": "@jupyter-widgets/base",
            "top": null,
            "grid_column": null,
            "overflow_y": null,
            "overflow_x": null,
            "grid_auto_flow": null,
            "grid_area": null,
            "grid_template_columns": null,
            "flex": null,
            "_model_name": "LayoutModel",
            "justify_items": null,
            "grid_row": null,
            "max_height": null,
            "align_content": null,
            "visibility": null,
            "align_self": null,
            "height": null,
            "min_height": null,
            "padding": null,
            "grid_auto_rows": null,
            "grid_gap": null,
            "max_width": null,
            "order": null,
            "_view_module_version": "1.2.0",
            "grid_template_areas": null,
            "object_position": null,
            "object_fit": null,
            "grid_auto_columns": null,
            "margin": null,
            "display": null,
            "left": null
          }
        },
        "01cc34a732f447dc9805d8d04e8546a2": {
          "model_module": "@jupyter-widgets/controls",
          "model_name": "HBoxModel",
          "state": {
            "_view_name": "HBoxView",
            "_dom_classes": [],
            "_model_name": "HBoxModel",
            "_view_module": "@jupyter-widgets/controls",
            "_model_module_version": "1.5.0",
            "_view_count": null,
            "_view_module_version": "1.5.0",
            "box_style": "",
            "layout": "IPY_MODEL_4f21f3ecd88e43fb8df65e24a3bd171c",
            "_model_module": "@jupyter-widgets/controls",
            "children": [
              "IPY_MODEL_bfc67e872b6e4bb788dd707f7335aaea",
              "IPY_MODEL_a69b6c95b451441a9b67c5ea7ccf27f7"
            ]
          }
        },
        "4f21f3ecd88e43fb8df65e24a3bd171c": {
          "model_module": "@jupyter-widgets/base",
          "model_name": "LayoutModel",
          "state": {
            "_view_name": "LayoutView",
            "grid_template_rows": null,
            "right": null,
            "justify_content": null,
            "_view_module": "@jupyter-widgets/base",
            "overflow": null,
            "_model_module_version": "1.2.0",
            "_view_count": null,
            "flex_flow": null,
            "width": null,
            "min_width": null,
            "border": null,
            "align_items": null,
            "bottom": null,
            "_model_module": "@jupyter-widgets/base",
            "top": null,
            "grid_column": null,
            "overflow_y": null,
            "overflow_x": null,
            "grid_auto_flow": null,
            "grid_area": null,
            "grid_template_columns": null,
            "flex": null,
            "_model_name": "LayoutModel",
            "justify_items": null,
            "grid_row": null,
            "max_height": null,
            "align_content": null,
            "visibility": null,
            "align_self": null,
            "height": null,
            "min_height": null,
            "padding": null,
            "grid_auto_rows": null,
            "grid_gap": null,
            "max_width": null,
            "order": null,
            "_view_module_version": "1.2.0",
            "grid_template_areas": null,
            "object_position": null,
            "object_fit": null,
            "grid_auto_columns": null,
            "margin": null,
            "display": null,
            "left": null
          }
        },
        "bfc67e872b6e4bb788dd707f7335aaea": {
          "model_module": "@jupyter-widgets/controls",
          "model_name": "FloatProgressModel",
          "state": {
            "_view_name": "ProgressView",
            "style": "IPY_MODEL_88d1372b56524e5a80778ca3d60e24d6",
            "_dom_classes": [],
            "description": "100%",
            "_model_name": "FloatProgressModel",
            "bar_style": "success",
            "max": 4,
            "_view_module": "@jupyter-widgets/controls",
            "_model_module_version": "1.5.0",
            "value": 4,
            "_view_count": null,
            "_view_module_version": "1.5.0",
            "orientation": "horizontal",
            "min": 0,
            "description_tooltip": null,
            "_model_module": "@jupyter-widgets/controls",
            "layout": "IPY_MODEL_d3b450118ee248cd8f81c5408b39b890"
          }
        },
        "a69b6c95b451441a9b67c5ea7ccf27f7": {
          "model_module": "@jupyter-widgets/controls",
          "model_name": "HTMLModel",
          "state": {
            "_view_name": "HTMLView",
            "style": "IPY_MODEL_745fd7c814684970a0076605da1b384e",
            "_dom_classes": [],
            "description": "",
            "_model_name": "HTMLModel",
            "placeholder": "​",
            "_view_module": "@jupyter-widgets/controls",
            "_model_module_version": "1.5.0",
            "value": " 4/4 [00:59&lt;00:00, 14.95s/it]",
            "_view_count": null,
            "_view_module_version": "1.5.0",
            "description_tooltip": null,
            "_model_module": "@jupyter-widgets/controls",
            "layout": "IPY_MODEL_e6893032d59247db8345dc779771b686"
          }
        },
        "88d1372b56524e5a80778ca3d60e24d6": {
          "model_module": "@jupyter-widgets/controls",
          "model_name": "ProgressStyleModel",
          "state": {
            "_view_name": "StyleView",
            "_model_name": "ProgressStyleModel",
            "description_width": "initial",
            "_view_module": "@jupyter-widgets/base",
            "_model_module_version": "1.5.0",
            "_view_count": null,
            "_view_module_version": "1.2.0",
            "bar_color": null,
            "_model_module": "@jupyter-widgets/controls"
          }
        },
        "d3b450118ee248cd8f81c5408b39b890": {
          "model_module": "@jupyter-widgets/base",
          "model_name": "LayoutModel",
          "state": {
            "_view_name": "LayoutView",
            "grid_template_rows": null,
            "right": null,
            "justify_content": null,
            "_view_module": "@jupyter-widgets/base",
            "overflow": null,
            "_model_module_version": "1.2.0",
            "_view_count": null,
            "flex_flow": null,
            "width": null,
            "min_width": null,
            "border": null,
            "align_items": null,
            "bottom": null,
            "_model_module": "@jupyter-widgets/base",
            "top": null,
            "grid_column": null,
            "overflow_y": null,
            "overflow_x": null,
            "grid_auto_flow": null,
            "grid_area": null,
            "grid_template_columns": null,
            "flex": null,
            "_model_name": "LayoutModel",
            "justify_items": null,
            "grid_row": null,
            "max_height": null,
            "align_content": null,
            "visibility": null,
            "align_self": null,
            "height": null,
            "min_height": null,
            "padding": null,
            "grid_auto_rows": null,
            "grid_gap": null,
            "max_width": null,
            "order": null,
            "_view_module_version": "1.2.0",
            "grid_template_areas": null,
            "object_position": null,
            "object_fit": null,
            "grid_auto_columns": null,
            "margin": null,
            "display": null,
            "left": null
          }
        },
        "745fd7c814684970a0076605da1b384e": {
          "model_module": "@jupyter-widgets/controls",
          "model_name": "DescriptionStyleModel",
          "state": {
            "_view_name": "StyleView",
            "_model_name": "DescriptionStyleModel",
            "description_width": "",
            "_view_module": "@jupyter-widgets/base",
            "_model_module_version": "1.5.0",
            "_view_count": null,
            "_view_module_version": "1.2.0",
            "_model_module": "@jupyter-widgets/controls"
          }
        },
        "e6893032d59247db8345dc779771b686": {
          "model_module": "@jupyter-widgets/base",
          "model_name": "LayoutModel",
          "state": {
            "_view_name": "LayoutView",
            "grid_template_rows": null,
            "right": null,
            "justify_content": null,
            "_view_module": "@jupyter-widgets/base",
            "overflow": null,
            "_model_module_version": "1.2.0",
            "_view_count": null,
            "flex_flow": null,
            "width": null,
            "min_width": null,
            "border": null,
            "align_items": null,
            "bottom": null,
            "_model_module": "@jupyter-widgets/base",
            "top": null,
            "grid_column": null,
            "overflow_y": null,
            "overflow_x": null,
            "grid_auto_flow": null,
            "grid_area": null,
            "grid_template_columns": null,
            "flex": null,
            "_model_name": "LayoutModel",
            "justify_items": null,
            "grid_row": null,
            "max_height": null,
            "align_content": null,
            "visibility": null,
            "align_self": null,
            "height": null,
            "min_height": null,
            "padding": null,
            "grid_auto_rows": null,
            "grid_gap": null,
            "max_width": null,
            "order": null,
            "_view_module_version": "1.2.0",
            "grid_template_areas": null,
            "object_position": null,
            "object_fit": null,
            "grid_auto_columns": null,
            "margin": null,
            "display": null,
            "left": null
          }
        },
        "e57e1729d9c04b1e90b03bfdc5130bf1": {
          "model_module": "@jupyter-widgets/controls",
          "model_name": "HBoxModel",
          "state": {
            "_view_name": "HBoxView",
            "_dom_classes": [],
            "_model_name": "HBoxModel",
            "_view_module": "@jupyter-widgets/controls",
            "_model_module_version": "1.5.0",
            "_view_count": null,
            "_view_module_version": "1.5.0",
            "box_style": "",
            "layout": "IPY_MODEL_f82dfb8cbab84e79b93dd8ded1382c16",
            "_model_module": "@jupyter-widgets/controls",
            "children": [
              "IPY_MODEL_b9f109e6ecd146b6b66eaf38504bc7d5",
              "IPY_MODEL_4b43b08869174af881729417a0f48ac9"
            ]
          }
        },
        "f82dfb8cbab84e79b93dd8ded1382c16": {
          "model_module": "@jupyter-widgets/base",
          "model_name": "LayoutModel",
          "state": {
            "_view_name": "LayoutView",
            "grid_template_rows": null,
            "right": null,
            "justify_content": null,
            "_view_module": "@jupyter-widgets/base",
            "overflow": null,
            "_model_module_version": "1.2.0",
            "_view_count": null,
            "flex_flow": null,
            "width": null,
            "min_width": null,
            "border": null,
            "align_items": null,
            "bottom": null,
            "_model_module": "@jupyter-widgets/base",
            "top": null,
            "grid_column": null,
            "overflow_y": null,
            "overflow_x": null,
            "grid_auto_flow": null,
            "grid_area": null,
            "grid_template_columns": null,
            "flex": null,
            "_model_name": "LayoutModel",
            "justify_items": null,
            "grid_row": null,
            "max_height": null,
            "align_content": null,
            "visibility": null,
            "align_self": null,
            "height": null,
            "min_height": null,
            "padding": null,
            "grid_auto_rows": null,
            "grid_gap": null,
            "max_width": null,
            "order": null,
            "_view_module_version": "1.2.0",
            "grid_template_areas": null,
            "object_position": null,
            "object_fit": null,
            "grid_auto_columns": null,
            "margin": null,
            "display": null,
            "left": null
          }
        },
        "b9f109e6ecd146b6b66eaf38504bc7d5": {
          "model_module": "@jupyter-widgets/controls",
          "model_name": "FloatProgressModel",
          "state": {
            "_view_name": "ProgressView",
            "style": "IPY_MODEL_dcb2b45b1d7c41188fd138c00a287e45",
            "_dom_classes": [],
            "description": "100%",
            "_model_name": "FloatProgressModel",
            "bar_style": "success",
            "max": 4,
            "_view_module": "@jupyter-widgets/controls",
            "_model_module_version": "1.5.0",
            "value": 4,
            "_view_count": null,
            "_view_module_version": "1.5.0",
            "orientation": "horizontal",
            "min": 0,
            "description_tooltip": null,
            "_model_module": "@jupyter-widgets/controls",
            "layout": "IPY_MODEL_9b6ce04e97544eacb79fb845f9c5878c"
          }
        },
        "4b43b08869174af881729417a0f48ac9": {
          "model_module": "@jupyter-widgets/controls",
          "model_name": "HTMLModel",
          "state": {
            "_view_name": "HTMLView",
            "style": "IPY_MODEL_eff7a5d6d72d4084b4c5cc3329e319d2",
            "_dom_classes": [],
            "description": "",
            "_model_name": "HTMLModel",
            "placeholder": "​",
            "_view_module": "@jupyter-widgets/controls",
            "_model_module_version": "1.5.0",
            "value": " 4/4 [00:52&lt;00:00, 13.21s/it]",
            "_view_count": null,
            "_view_module_version": "1.5.0",
            "description_tooltip": null,
            "_model_module": "@jupyter-widgets/controls",
            "layout": "IPY_MODEL_e16cf1aedf5245f3855b559880e1ae27"
          }
        },
        "dcb2b45b1d7c41188fd138c00a287e45": {
          "model_module": "@jupyter-widgets/controls",
          "model_name": "ProgressStyleModel",
          "state": {
            "_view_name": "StyleView",
            "_model_name": "ProgressStyleModel",
            "description_width": "initial",
            "_view_module": "@jupyter-widgets/base",
            "_model_module_version": "1.5.0",
            "_view_count": null,
            "_view_module_version": "1.2.0",
            "bar_color": null,
            "_model_module": "@jupyter-widgets/controls"
          }
        },
        "9b6ce04e97544eacb79fb845f9c5878c": {
          "model_module": "@jupyter-widgets/base",
          "model_name": "LayoutModel",
          "state": {
            "_view_name": "LayoutView",
            "grid_template_rows": null,
            "right": null,
            "justify_content": null,
            "_view_module": "@jupyter-widgets/base",
            "overflow": null,
            "_model_module_version": "1.2.0",
            "_view_count": null,
            "flex_flow": null,
            "width": null,
            "min_width": null,
            "border": null,
            "align_items": null,
            "bottom": null,
            "_model_module": "@jupyter-widgets/base",
            "top": null,
            "grid_column": null,
            "overflow_y": null,
            "overflow_x": null,
            "grid_auto_flow": null,
            "grid_area": null,
            "grid_template_columns": null,
            "flex": null,
            "_model_name": "LayoutModel",
            "justify_items": null,
            "grid_row": null,
            "max_height": null,
            "align_content": null,
            "visibility": null,
            "align_self": null,
            "height": null,
            "min_height": null,
            "padding": null,
            "grid_auto_rows": null,
            "grid_gap": null,
            "max_width": null,
            "order": null,
            "_view_module_version": "1.2.0",
            "grid_template_areas": null,
            "object_position": null,
            "object_fit": null,
            "grid_auto_columns": null,
            "margin": null,
            "display": null,
            "left": null
          }
        },
        "eff7a5d6d72d4084b4c5cc3329e319d2": {
          "model_module": "@jupyter-widgets/controls",
          "model_name": "DescriptionStyleModel",
          "state": {
            "_view_name": "StyleView",
            "_model_name": "DescriptionStyleModel",
            "description_width": "",
            "_view_module": "@jupyter-widgets/base",
            "_model_module_version": "1.5.0",
            "_view_count": null,
            "_view_module_version": "1.2.0",
            "_model_module": "@jupyter-widgets/controls"
          }
        },
        "e16cf1aedf5245f3855b559880e1ae27": {
          "model_module": "@jupyter-widgets/base",
          "model_name": "LayoutModel",
          "state": {
            "_view_name": "LayoutView",
            "grid_template_rows": null,
            "right": null,
            "justify_content": null,
            "_view_module": "@jupyter-widgets/base",
            "overflow": null,
            "_model_module_version": "1.2.0",
            "_view_count": null,
            "flex_flow": null,
            "width": null,
            "min_width": null,
            "border": null,
            "align_items": null,
            "bottom": null,
            "_model_module": "@jupyter-widgets/base",
            "top": null,
            "grid_column": null,
            "overflow_y": null,
            "overflow_x": null,
            "grid_auto_flow": null,
            "grid_area": null,
            "grid_template_columns": null,
            "flex": null,
            "_model_name": "LayoutModel",
            "justify_items": null,
            "grid_row": null,
            "max_height": null,
            "align_content": null,
            "visibility": null,
            "align_self": null,
            "height": null,
            "min_height": null,
            "padding": null,
            "grid_auto_rows": null,
            "grid_gap": null,
            "max_width": null,
            "order": null,
            "_view_module_version": "1.2.0",
            "grid_template_areas": null,
            "object_position": null,
            "object_fit": null,
            "grid_auto_columns": null,
            "margin": null,
            "display": null,
            "left": null
          }
        },
        "a3f8853fe52a4aafbeab730fd8ad3af3": {
          "model_module": "@jupyter-widgets/controls",
          "model_name": "HBoxModel",
          "state": {
            "_view_name": "HBoxView",
            "_dom_classes": [],
            "_model_name": "HBoxModel",
            "_view_module": "@jupyter-widgets/controls",
            "_model_module_version": "1.5.0",
            "_view_count": null,
            "_view_module_version": "1.5.0",
            "box_style": "",
            "layout": "IPY_MODEL_8490c5d620e347449f58baee9af0e46f",
            "_model_module": "@jupyter-widgets/controls",
            "children": [
              "IPY_MODEL_4c0cfd7127014e51b47a4f3345a7d349",
              "IPY_MODEL_e28824bab48a4e0e88e4cee146b91a31"
            ]
          }
        },
        "8490c5d620e347449f58baee9af0e46f": {
          "model_module": "@jupyter-widgets/base",
          "model_name": "LayoutModel",
          "state": {
            "_view_name": "LayoutView",
            "grid_template_rows": null,
            "right": null,
            "justify_content": null,
            "_view_module": "@jupyter-widgets/base",
            "overflow": null,
            "_model_module_version": "1.2.0",
            "_view_count": null,
            "flex_flow": null,
            "width": null,
            "min_width": null,
            "border": null,
            "align_items": null,
            "bottom": null,
            "_model_module": "@jupyter-widgets/base",
            "top": null,
            "grid_column": null,
            "overflow_y": null,
            "overflow_x": null,
            "grid_auto_flow": null,
            "grid_area": null,
            "grid_template_columns": null,
            "flex": null,
            "_model_name": "LayoutModel",
            "justify_items": null,
            "grid_row": null,
            "max_height": null,
            "align_content": null,
            "visibility": null,
            "align_self": null,
            "height": null,
            "min_height": null,
            "padding": null,
            "grid_auto_rows": null,
            "grid_gap": null,
            "max_width": null,
            "order": null,
            "_view_module_version": "1.2.0",
            "grid_template_areas": null,
            "object_position": null,
            "object_fit": null,
            "grid_auto_columns": null,
            "margin": null,
            "display": null,
            "left": null
          }
        },
        "4c0cfd7127014e51b47a4f3345a7d349": {
          "model_module": "@jupyter-widgets/controls",
          "model_name": "FloatProgressModel",
          "state": {
            "_view_name": "ProgressView",
            "style": "IPY_MODEL_cca1c9791a724aad9580fd7d8c3b5eee",
            "_dom_classes": [],
            "description": "100%",
            "_model_name": "FloatProgressModel",
            "bar_style": "success",
            "max": 4,
            "_view_module": "@jupyter-widgets/controls",
            "_model_module_version": "1.5.0",
            "value": 4,
            "_view_count": null,
            "_view_module_version": "1.5.0",
            "orientation": "horizontal",
            "min": 0,
            "description_tooltip": null,
            "_model_module": "@jupyter-widgets/controls",
            "layout": "IPY_MODEL_d924135689544cbbb76869a6083c64d7"
          }
        },
        "e28824bab48a4e0e88e4cee146b91a31": {
          "model_module": "@jupyter-widgets/controls",
          "model_name": "HTMLModel",
          "state": {
            "_view_name": "HTMLView",
            "style": "IPY_MODEL_0d5dab1ed9fe4e5fb14dd3d99afade2f",
            "_dom_classes": [],
            "description": "",
            "_model_name": "HTMLModel",
            "placeholder": "​",
            "_view_module": "@jupyter-widgets/controls",
            "_model_module_version": "1.5.0",
            "value": " 4/4 [03:20&lt;00:00, 50.08s/it]",
            "_view_count": null,
            "_view_module_version": "1.5.0",
            "description_tooltip": null,
            "_model_module": "@jupyter-widgets/controls",
            "layout": "IPY_MODEL_dc4089cba88a489cb7510da7598b35d7"
          }
        },
        "cca1c9791a724aad9580fd7d8c3b5eee": {
          "model_module": "@jupyter-widgets/controls",
          "model_name": "ProgressStyleModel",
          "state": {
            "_view_name": "StyleView",
            "_model_name": "ProgressStyleModel",
            "description_width": "initial",
            "_view_module": "@jupyter-widgets/base",
            "_model_module_version": "1.5.0",
            "_view_count": null,
            "_view_module_version": "1.2.0",
            "bar_color": null,
            "_model_module": "@jupyter-widgets/controls"
          }
        },
        "d924135689544cbbb76869a6083c64d7": {
          "model_module": "@jupyter-widgets/base",
          "model_name": "LayoutModel",
          "state": {
            "_view_name": "LayoutView",
            "grid_template_rows": null,
            "right": null,
            "justify_content": null,
            "_view_module": "@jupyter-widgets/base",
            "overflow": null,
            "_model_module_version": "1.2.0",
            "_view_count": null,
            "flex_flow": null,
            "width": null,
            "min_width": null,
            "border": null,
            "align_items": null,
            "bottom": null,
            "_model_module": "@jupyter-widgets/base",
            "top": null,
            "grid_column": null,
            "overflow_y": null,
            "overflow_x": null,
            "grid_auto_flow": null,
            "grid_area": null,
            "grid_template_columns": null,
            "flex": null,
            "_model_name": "LayoutModel",
            "justify_items": null,
            "grid_row": null,
            "max_height": null,
            "align_content": null,
            "visibility": null,
            "align_self": null,
            "height": null,
            "min_height": null,
            "padding": null,
            "grid_auto_rows": null,
            "grid_gap": null,
            "max_width": null,
            "order": null,
            "_view_module_version": "1.2.0",
            "grid_template_areas": null,
            "object_position": null,
            "object_fit": null,
            "grid_auto_columns": null,
            "margin": null,
            "display": null,
            "left": null
          }
        },
        "0d5dab1ed9fe4e5fb14dd3d99afade2f": {
          "model_module": "@jupyter-widgets/controls",
          "model_name": "DescriptionStyleModel",
          "state": {
            "_view_name": "StyleView",
            "_model_name": "DescriptionStyleModel",
            "description_width": "",
            "_view_module": "@jupyter-widgets/base",
            "_model_module_version": "1.5.0",
            "_view_count": null,
            "_view_module_version": "1.2.0",
            "_model_module": "@jupyter-widgets/controls"
          }
        },
        "dc4089cba88a489cb7510da7598b35d7": {
          "model_module": "@jupyter-widgets/base",
          "model_name": "LayoutModel",
          "state": {
            "_view_name": "LayoutView",
            "grid_template_rows": null,
            "right": null,
            "justify_content": null,
            "_view_module": "@jupyter-widgets/base",
            "overflow": null,
            "_model_module_version": "1.2.0",
            "_view_count": null,
            "flex_flow": null,
            "width": null,
            "min_width": null,
            "border": null,
            "align_items": null,
            "bottom": null,
            "_model_module": "@jupyter-widgets/base",
            "top": null,
            "grid_column": null,
            "overflow_y": null,
            "overflow_x": null,
            "grid_auto_flow": null,
            "grid_area": null,
            "grid_template_columns": null,
            "flex": null,
            "_model_name": "LayoutModel",
            "justify_items": null,
            "grid_row": null,
            "max_height": null,
            "align_content": null,
            "visibility": null,
            "align_self": null,
            "height": null,
            "min_height": null,
            "padding": null,
            "grid_auto_rows": null,
            "grid_gap": null,
            "max_width": null,
            "order": null,
            "_view_module_version": "1.2.0",
            "grid_template_areas": null,
            "object_position": null,
            "object_fit": null,
            "grid_auto_columns": null,
            "margin": null,
            "display": null,
            "left": null
          }
        }
      }
    }
  },
  "cells": [
    {
      "cell_type": "code",
      "metadata": {
        "id": "0WT1ddWhxdYw",
        "colab_type": "code",
        "colab": {}
      },
      "source": [
        "# colab setting\n",
        "!pip install GraphRicciCurvature\n",
        "!pip install grakel\n",
        "\n",
        "import networkx as nx\n",
        "import numpy as np\n",
        "import math\n",
        "import importlib\n",
        "from IPython.display import clear_output\n",
        "from IPython.core.debugger import set_trace\n",
        "import pandas as pd\n",
        "\n",
        "from sklearn.linear_model import LogisticRegression\n",
        "from sklearn.ensemble import RandomForestClassifier\n",
        "from sklearn.neighbors import KNeighborsClassifier\n",
        "from sklearn.model_selection import cross_val_score\n",
        "from sklearn.metrics import accuracy_score, f1_score\n",
        "from sklearn.model_selection import train_test_split\n",
        "from sklearn.preprocessing import StandardScaler\n",
        "from sklearn.model_selection import GridSearchCV\n",
        "\n",
        "from tqdm import tqdm_notebook\n",
        "\n",
        "# matplotlib setting\n",
        "%matplotlib inline\n",
        "import matplotlib.pyplot as plt\n",
        "\n",
        "# to print logs in jupyter notebook\n",
        "import logging\n",
        "logging.basicConfig(format='%(levelname)s:%(message)s', level=logging.ERROR)\n",
        "\n",
        "# load GraphRicciCuravture package\n",
        "from GraphRicciCurvature.OllivierRicci import OllivierRicci\n",
        "from GraphRicciCurvature.FormanRicci import FormanRicci\n",
        "clear_output()"
      ],
      "execution_count": 0,
      "outputs": []
    },
    {
      "cell_type": "code",
      "metadata": {
        "id": "hrTImyccdQBq",
        "colab_type": "code",
        "colab": {}
      },
      "source": [
        "!pip install torch-scatter==latest+cu101 -f https://pytorch-geometric.com/whl/torch-1.5.0.html\n",
        "!pip install torch-sparse==latest+cu101 -f https://pytorch-geometric.com/whl/torch-1.5.0.html\n",
        "!pip install torch-cluster==latest+cu101 -f https://pytorch-geometric.com/whl/torch-1.5.0.html\n",
        "!pip install torch-spline-conv==latest+cu101 -f https://pytorch-geometric.com/whl/torch-1.5.0.html\n",
        "!pip install torch-geometric\n",
        "clear_output()"
      ],
      "execution_count": 0,
      "outputs": []
    },
    {
      "cell_type": "markdown",
      "metadata": {
        "id": "v7lOC6dgZrYl",
        "colab_type": "text"
      },
      "source": [
        "# CurvConv architecture"
      ]
    },
    {
      "cell_type": "code",
      "metadata": {
        "id": "SFQ97EWPZpUb",
        "colab_type": "code",
        "colab": {}
      },
      "source": [
        "import torch\n",
        "import torch.nn.functional as F\n",
        "import torch_geometric.transforms as T\n",
        "from torch.nn import Sequential as seq, Parameter,LeakyReLU,init,Linear\n",
        "from torch_geometric.nn import MessagePassing\n",
        "from torch_geometric.utils import softmax, degree, add_self_loops, remove_self_loops\n",
        "from torch_geometric.nn import GCNConv, EdgeConv, ECConv\n",
        "from torch_geometric.datasets import Planetoid, Amazon, Coauthor\n",
        "from torch_geometric.utils.convert import from_networkx, to_networkx\n",
        "\n",
        "device = torch.device('cuda' if torch.cuda.is_available() else 'cpu')\n",
        "_=torch.manual_seed(42)"
      ],
      "execution_count": 0,
      "outputs": []
    },
    {
      "cell_type": "code",
      "metadata": {
        "id": "u-cIysdn-ocZ",
        "colab_type": "code",
        "colab": {}
      },
      "source": [
        "models = {'KNN Classifier':KNeighborsClassifier,\n",
        "          'Random Forest':RandomForestClassifier,\n",
        "          'Log Regression':LogisticRegression}\n",
        "f1_metric = lambda y1, y2: f1_score(y1,y2, average='weighted')\n",
        "\n",
        "def train_val_clf(models, data=None, X=None, y=None, metric=f1_metric, gridsearch=False, models_params=None, scorer='f1_weighted'):\n",
        "    if data is not None:\n",
        "        X_train = data.x[data.train_mask]\n",
        "        y_train = data.y[data.train_mask]\n",
        "        X_test = data.x[data.test_mask]\n",
        "        y_test = data.y[data.test_mask]\n",
        "    else:\n",
        "        (X_train, \n",
        "        X_test, \n",
        "        y_train, \n",
        "        y_test) = train_test_split(X, y, test_size=0.33, random_state=42)\n",
        "\n",
        "    results = {}\n",
        "    for k,model in models.items():\n",
        "        if gridsearch and models_params is not None:\n",
        "            grid_search = GridSearchCV(model(),\n",
        "                                       models_params[k], \n",
        "                                       n_jobs=-1, \n",
        "                                       scoring=scorer,\n",
        "                                       verbose = 1)\n",
        "            grid_search.fit(X_train, y_train)\n",
        "            est = grid_search.best_estimator_\n",
        "        else:\n",
        "            est = model()\n",
        "        est.fit(X_train, y_train)\n",
        "        results[k] = metric(y_test,est.predict(X_test))\n",
        "    return results"
      ],
      "execution_count": 0,
      "outputs": []
    },
    {
      "cell_type": "code",
      "metadata": {
        "id": "5hMiMc1DXnks",
        "colab_type": "code",
        "colab": {}
      },
      "source": [
        "class curvGN(MessagePassing):\n",
        "    def __init__(self, in_channels, out_channels, w_mul=None, bias=True):\n",
        "        super(curvGN, self).__init__(aggr='add')\n",
        "        # self.w_mul = w_mul\n",
        "        self.lin = Linear(in_channels, out_channels)\n",
        "        widths = [1, out_channels]\n",
        "        self.w_mlp_out = create_wmlp(widths, out_channels, True)\n",
        "\n",
        "    def forward(self, x, edge_index, w_mul):\n",
        "        edge_index, _ = add_self_loops(edge_index, num_nodes=x.size(0))\n",
        "        x = self.lin(x)\n",
        "        out_weight = self.w_mlp_out(w_mul)\n",
        "        out_weight = softmax(out_weight, edge_index[0])\n",
        "        return self.propagate(edge_index,  x=x, out_weight=out_weight), out_weight\n",
        "\n",
        "    def message(self, x_j, out_weight):\n",
        "        return out_weight*x_j\n",
        "\n",
        "    def update(self, aggr_out):\n",
        "        # aggr_out has shape [N, out_channels]\n",
        "        # Step 5: Return new node embeddings.\n",
        "        return aggr_out\n",
        "\n",
        "def create_wmlp(widths, nfeato, lbias):\n",
        "    mlp_modules=[]\n",
        "    for k in range(len(widths)-1):\n",
        "        mlp_modules.append(Linear(widths[k], widths[k+1], bias=False))\n",
        "        mlp_modules.append(LeakyReLU(0.2, True))\n",
        "    mlp_modules.append(Linear(widths[len(widths)-1], nfeato, bias=lbias))\n",
        "\n",
        "    return seq(*mlp_modules)\n"
      ],
      "execution_count": 0,
      "outputs": []
    },
    {
      "cell_type": "code",
      "metadata": {
        "id": "MgUt_4i5mYpr",
        "colab_type": "code",
        "colab": {}
      },
      "source": [
        "class NetСurv(torch.nn.Module):\n",
        "    def __init__(self, num_features, num_classes, w_mul=None, hidden=64):\n",
        "        '''\n",
        "        w_mul - curvatures\n",
        "        '''\n",
        "        super(NetСurv, self).__init__()\n",
        "\n",
        "        self.conv1 = curvGN(num_features, hidden, w_mul=w_mul)\n",
        "        self.conv2 = curvGN(hidden, num_classes, w_mul=w_mul)\n",
        "\n",
        "    def forward(self, data, w_mul):\n",
        "        x, edge_index = data.x, data.edge_index\n",
        "\n",
        "        x, _ = self.conv1(x, edge_index, w_mul)\n",
        "        x = F.elu(x)\n",
        "        x = F.dropout(x,training=self.training)\n",
        "        x, _ = self.conv2(x, edge_index, w_mul)\n",
        "        \n",
        "        return F.log_softmax(x, dim=1)\n",
        "\n",
        "class Net(torch.nn.Module):\n",
        "    def __init__(self, num_features, num_classes, hidden=64):\n",
        "        super(Net, self).__init__()\n",
        "\n",
        "        self.conv1 = GCNConv(num_features, hidden)\n",
        "        self.conv2 = GCNConv(hidden, num_classes)\n",
        "\n",
        "    def forward(self, data):\n",
        "        x, edge_index = data.x, data.edge_index\n",
        "\n",
        "        x = self.conv1(x, edge_index)\n",
        "        x = F.elu(x)\n",
        "        x = F.dropout(x, training=self.training)\n",
        "        x = self.conv2(x, edge_index)\n",
        "\n",
        "        return F.log_softmax(x, dim=1)\n",
        "    "
      ],
      "execution_count": 0,
      "outputs": []
    },
    {
      "cell_type": "code",
      "metadata": {
        "id": "_Ypz8TBlIRET",
        "colab_type": "code",
        "colab": {}
      },
      "source": [
        "def get_curvatures_tensor(data, ricci_curvatures, self_loops=True):\n",
        "\n",
        "    if isinstance(ricci_curvatures, dict):\n",
        "        ricci_curvatures_tensor = torch.zeros((data.num_edges + data.num_nodes if \\\n",
        "                                              self_loops else data.num_edges,), dtype=torch.float).to(device)\n",
        "        for i in range(data.num_edges):\n",
        "            edge = data.edge_index[:,i].tolist()\n",
        "            if tuple(edge) in ricci_curvatures:\n",
        "                ricci = ricci_curvatures[tuple(edge)]\n",
        "            elif self_loops:\n",
        "                ricci = 0.0\n",
        "            else:\n",
        "                raise RuntimeError    \n",
        "            ricci_curvatures_tensor[i] = ricci\n",
        "    elif isinstance(ricci_curvatures, list):\n",
        "        ricci_curvatures_tensor = torch.tensor(ricci_curvatures, dtype=torch.float).to(device)\n",
        "    else:\n",
        "        raise TypeError('Wrong `ricci_curvatures` type, only list and dict are supported!')    \n",
        "    return ricci_curvatures_tensor      "
      ],
      "execution_count": 0,
      "outputs": []
    },
    {
      "cell_type": "code",
      "metadata": {
        "id": "ef2NsB0y4Ytl",
        "colab_type": "code",
        "colab": {}
      },
      "source": [
        "# from http://www3.cs.stonybrook.edu/~chni/\n",
        "def FormannCurvature(G, weighted=False, EPS=1e-15):\n",
        "    G = G.copy()\n",
        "    for (v1, v2) in G.edges():\n",
        "        if not weighted:\n",
        "            if G.is_directed():\n",
        "                v1_nbr = set(list(G.predecessors(v1)) + list(G.successors(v1)))\n",
        "                v2_nbr = set(list(G.predecessors(v2)) + list(G.successors(v2)))\n",
        "            else:\n",
        "                v1_nbr = set(G.neighbors(v1))\n",
        "                v1_nbr.remove(v2)\n",
        "                v2_nbr = set(G.neighbors(v2))\n",
        "                v2_nbr.remove(v1)\n",
        "            face = v1_nbr & v2_nbr\n",
        "            prl_nbr = (v1_nbr | v2_nbr) - face\n",
        "            G[v1][v2][\"formanCurvature\"] = len(face) + 2 - len(prl_nbr)\n",
        "        else:\n",
        "            w_e = G[v1][v2]['weight'] + np.sqrt(EPS)\n",
        "            w_i = 1.\n",
        "            w_j = 1.\n",
        "            S_i = sum([w_i/np.sqrt(v['weight']*w_e + EPS) if k!=v2 else 0. \\\n",
        "                       for k,v in G[v1].items()])\n",
        "            S_j = sum([w_j/np.sqrt(v['weight']*w_e + EPS) if k!=v1 else 0. \\\n",
        "                      for k,v in G[v2].items()])\n",
        "            curv = w_e*( (w_i/w_e) + (w_j/w_e) - S_i - S_j)\n",
        "            G[v1][v2][\"formanCurvature\"] = curv\n",
        "            assert not np.isnan(curv).any()\n",
        "\n",
        "    # Node Forman curvature\n",
        "    for n in G.nodes():\n",
        "        fcsum = 0  # sum of the neighbor Forman curvature\n",
        "        if G.degree(n) != 0:\n",
        "            for nbr in G.neighbors(n):\n",
        "                if 'formanCurvature' in G[n][nbr]:\n",
        "                    fcsum += G[n][nbr]['formanCurvature']\n",
        "            # assign the node Forman curvature to be the average of node's adjacency edges\n",
        "            G.nodes[n]['formanCurvature'] = fcsum / G.degree(n)\n",
        "                \n",
        "    return G"
      ],
      "execution_count": 0,
      "outputs": []
    },
    {
      "cell_type": "markdown",
      "metadata": {
        "id": "2VtS-kjG4agz",
        "colab_type": "text"
      },
      "source": [
        "# Compare performance "
      ]
    },
    {
      "cell_type": "code",
      "metadata": {
        "id": "tua9xRiu4Zdz",
        "colab_type": "code",
        "colab": {}
      },
      "source": [
        "# import time \n",
        "# n_edges = []\n",
        "# times_olliver = []\n",
        "# times_formann = []\n",
        "\n",
        "# for n_nodes in tqdm_notebook(np.arange(2,30)):\n",
        "    \n",
        "#     complete_graph = nx.complete_graph(n_nodes) \n",
        "#     n_edges.append(complete_graph.number_of_edges())\n",
        "    \n",
        "#     t1=time.time()\n",
        "#     orc = OllivierRicci(complete_graph, alpha=0.5, verbose=\"ERROR\")\n",
        "#     _ = orc.compute_ricci_curvature()\n",
        "#     t2=time.time()\n",
        "#     times_olliver.append(t2-t1)\n",
        "\n",
        "#     t1=time.time()\n",
        "#     _=FormannCurvature(complete_graph)\n",
        "#     t2=time.time()\n",
        "#     times_formann.append(t2-t1)\n",
        "\n",
        "# clear_output()    \n",
        "\n",
        "# plt.figure(dpi=100)\n",
        "# plt.plot(n_edges,times_olliver, label='Olliver-Ricci')\n",
        "# plt.plot(n_edges,times_formann, label='Formann-Ricci')\n",
        "# plt.xlabel('# edges in graph')\n",
        "# plt.ylabel('time, sec.')\n",
        "# plt.legend()\n",
        "# plt.show()\n"
      ],
      "execution_count": 0,
      "outputs": []
    },
    {
      "cell_type": "markdown",
      "metadata": {
        "id": "ZDu8FsH82z5L",
        "colab_type": "text"
      },
      "source": [
        "# Nodes classification"
      ]
    },
    {
      "cell_type": "markdown",
      "metadata": {
        "id": "RlxDacptaoKI",
        "colab_type": "text"
      },
      "source": [
        "## Dataset"
      ]
    },
    {
      "cell_type": "code",
      "metadata": {
        "id": "ZN8BsGs5OaMb",
        "colab_type": "code",
        "colab": {}
      },
      "source": [
        "datasets = {\n",
        "            'Amazon-Computer' : Amazon(root='/tmp/Amazon', name='Computers'),\n",
        "            'Cora':Planetoid(root='/tmp/Cora',  name='Cora'),\n",
        "            'CiteSeer':Planetoid(root='/tmp/CiteSeer', name='CiteSeer'),\n",
        "            'PubMed':Planetoid(root='/tmp/PubMed', name='PubMed'),\n",
        "}\n",
        "\n",
        "dataset = datasets['CiteSeer']\n",
        "num_features = dataset.num_features\n",
        "num_classes = dataset.num_classes\n",
        "\n",
        "data = dataset[0]\n",
        "num_nodes = data.num_nodes\n",
        "# data.edge_index, _ = add_self_loops(data.edge_index, num_nodes=num_nodes)\n",
        "assert hasattr(data, 'test_mask') or hasattr(data, 'train_mask')\n",
        "data_nx = to_networkx(data,  node_attrs='x')\n",
        "     "
      ],
      "execution_count": 0,
      "outputs": []
    },
    {
      "cell_type": "code",
      "metadata": {
        "id": "V1-ILPo5bSao",
        "colab_type": "code",
        "colab": {
          "base_uri": "https://localhost:8080/",
          "height": 264
        },
        "outputId": "8ac72cfa-d923-499e-c7b8-1fab177c8784"
      },
      "source": [
        "targets = data.y.numpy()\n",
        "plt.hist(targets,bins=len(np.unique(targets)))\n",
        "plt.show()"
      ],
      "execution_count": 64,
      "outputs": [
        {
          "output_type": "display_data",
          "data": {
            "image/png": "[encoded data removed]",
            "text/plain": [
              "<Figure size 432x288 with 1 Axes>"
            ]
          },
          "metadata": {
            "tags": [],
            "needs_background": "light"
          }
        }
      ]
    },
    {
      "cell_type": "code",
      "metadata": {
        "id": "jGavHeK50gSB",
        "colab_type": "code",
        "outputId": "0068590c-9103-4f9b-d5f8-8669e40aed31",
        "colab": {
          "base_uri": "https://localhost:8080/",
          "height": 120,
          "referenced_widgets": [
            "d8254e72755d42f7a8381572e24bded5",
            "83210e1d0ce44765b496c43bddedf171",
            "90f7c5af5e2e4d86974dda0de43434b8",
            "cc669f0ae10448c0a3996bba4eae3ebb",
            "abcb3d0a12b34a2cb7d046611e9172d3",
            "1ccb684b2f524c3fa1a55594d094998d",
            "232dedb6ab9c451d96aab7a6a05a99b0",
            "92cc431d18de4f8ead21c5462986038e"
          ]
        }
      },
      "source": [
        "edge_weight_types = ['one', 'euclidean', 'manhattan']\n",
        "edge_weight_type = 'manhattan'\n",
        "\n",
        "for edge in tqdm_notebook(data_nx.edges):\n",
        "    if edge_weight_type == 'one':\n",
        "        data_nx[edge[0]][edge[1]]['weight'] = 1.\n",
        "    elif edge_weight_type == 'euclidean': \n",
        "        data_nx[edge[0]][edge[1]]['weight'] = torch.norm(torch.tensor(data_nx.nodes[edge[0]]['x']) -\\\n",
        "                                                         torch.tensor(data_nx.nodes[edge[1]]['x']), p=2 )\n",
        "    elif edge_weight_type == 'manhattan': \n",
        "        data_nx[edge[0]][edge[1]]['weight'] = torch.norm(torch.tensor(data_nx.nodes[edge[0]]['x']) - \\\n",
        "                                                         torch.tensor(data_nx.nodes[edge[1]]['x']), p=1)  \n",
        "    else:\n",
        "      raise KeyError('Wrong `edge_weight_type`')   "
      ],
      "execution_count": 0,
      "outputs": [
        {
          "output_type": "stream",
          "text": [
            "/usr/local/lib/python3.6/dist-packages/ipykernel_launcher.py:4: TqdmDeprecationWarning: This function will be removed in tqdm==5.0.0\n",
            "Please use `tqdm.notebook.tqdm` instead of `tqdm.tqdm_notebook`\n",
            "  after removing the cwd from sys.path.\n"
          ],
          "name": "stderr"
        },
        {
          "output_type": "display_data",
          "data": {
            "application/vnd.jupyter.widget-view+json": {
              "model_id": "d8254e72755d42f7a8381572e24bded5",
              "version_minor": 0,
              "version_major": 2
            },
            "text/plain": [
              "HBox(children=(FloatProgress(value=0.0, max=9104.0), HTML(value='')))"
            ]
          },
          "metadata": {
            "tags": []
          }
        },
        {
          "output_type": "stream",
          "text": [
            "\n"
          ],
          "name": "stdout"
        }
      ]
    },
    {
      "cell_type": "code",
      "metadata": {
        "id": "KFAOczaV1zAB",
        "colab_type": "code",
        "outputId": "2137dcbc-3974-4089-b1d4-9848ccbf229c",
        "colab": {
          "base_uri": "https://localhost:8080/",
          "height": 872
        }
      },
      "source": [
        "compute_olliver_ricci = data.edge_index.shape[1] < 20*1e3\n",
        "weighted_edges = edge_weight_type != 'one'\n",
        "learn_curv_edges = False\n",
        "from collections import Counter\n",
        "nbr_topk = max(Counter(data.edge_index[0].tolist()).values())\n",
        "\n",
        "print('Compute Olliver-Ricci:', 'Yes' if compute_olliver_ricci else 'No')\n",
        "\n",
        "if compute_olliver_ricci:\n",
        "    orc = OllivierRicci(data_nx, alpha=0.5, verbose=\"ERROR\", nbr_topk=nbr_topk)\n",
        "    _ = orc.compute_ricci_curvature()\n",
        "    G_orc = orc.G.copy()\n",
        "    ricci_curvatures_olliver = nx.get_edge_attributes(G_orc, \"ricciCurvature\")\n",
        "    ricci_curvatures_olliver_nodes = [(G_orc.nodes[i]['ricciCurvature'] if hasattr(G_orc.nodes[i],'ricciCurvature') else 1e-15) for i in list(G_orc.nodes)]\n",
        "    #nx.get_node_attributes(G_orc, 'ricciCurvature')\n",
        "    # plot\n",
        "    plt.figure()\n",
        "    plt.hist(ricci_curvatures_olliver.values(),bins=100)\n",
        "    plt.xlabel('Ricci curvature')\n",
        "    plt.title(\"Histogram of Olliver-Ricci Curvatures\")\n",
        "\n",
        "G_frc = FormannCurvature(data_nx, weighted=weighted_edges)\n",
        "ricci_curvatures_formann = nx.get_edge_attributes(G_frc, 'formanCurvature')\n",
        "ricci_curvatures_formann_nodes = [G_frc.nodes[i]['formanCurvature'] if hasattr(G_frc.nodes[i], 'formanCurvature') else 1e-15 for i in list(G_frc.nodes)] \n",
        "#nx.get_node_attributes(G_frc, 'formanCurvature')\n",
        "# plot\n",
        "plt.figure()\n",
        "plt.yscale('log')\n",
        "plt.hist(ricci_curvatures_formann.values(),bins=100)\n",
        "plt.xlabel('Ricci curvature')\n",
        "plt.title(\"Histogram of Formann-Ricci Curvatures\")\n",
        "plt.tight_layout()\n",
        "\n",
        "edges_weights =  nx.get_edge_attributes(data_nx, \"weight\")\n",
        "# plot\n",
        "plt.figure()\n",
        "plt.hist(edges_weights.values(),bins=100)\n",
        "plt.xlabel('Edge weight')\n",
        "plt.show()"
      ],
      "execution_count": 68,
      "outputs": [
        {
          "output_type": "stream",
          "text": [
            "Compute Olliver-Ricci: Yes\n",
            "Forman curvature computation done.\n"
          ],
          "name": "stdout"
        },
        {
          "output_type": "display_data",
          "data": {
            "image/png": "[encoded data removed]",
            "text/plain": [
              "<Figure size 432x288 with 1 Axes>"
            ]
          },
          "metadata": {
            "tags": [],
            "needs_background": "light"
          }
        },
        {
          "output_type": "display_data",
          "data": {
            "image/png": "[encoded data removed]",
            "text/plain": [
              "<Figure size 432x288 with 1 Axes>"
            ]
          },
          "metadata": {
            "tags": [],
            "needs_background": "light"
          }
        },
        {
          "output_type": "display_data",
          "data": {
            "image/png": "[encoded data removed]",
            "text/plain": [
              "<Figure size 432x288 with 1 Axes>"
            ]
          },
          "metadata": {
            "tags": [],
            "needs_background": "light"
          }
        }
      ]
    },
    {
      "cell_type": "code",
      "metadata": {
        "id": "JqOwhB3lLTdN",
        "colab_type": "code",
        "colab": {}
      },
      "source": [
        "data_curv_formann = data.clone()\n",
        "data_curv_olliver = data.clone()\n",
        "\n",
        "data_curv_olliver.x = torch.cat([data_curv_olliver.x, \n",
        "                                torch.tensor(ricci_curvatures_olliver_nodes, dtype=torch.float32).unsqueeze(1)],1)\n",
        "\n",
        "data_curv_formann.x = torch.cat([data_curv_formann.x, \n",
        "                                torch.tensor(ricci_curvatures_formann_nodes, dtype=torch.float32).unsqueeze(1)],1)\n",
        "\n",
        "results_nodes = train_val_clf(models, data)\n",
        "results_nodes_curv_olliver = train_val_clf(models, data_curv_olliver)\n",
        "results_nodes_curv_forman = train_val_clf(models, data_curv_formann)"
      ],
      "execution_count": 0,
      "outputs": []
    },
    {
      "cell_type": "code",
      "metadata": {
        "id": "uTHrgR0qSL5q",
        "colab_type": "code",
        "colab": {
          "base_uri": "https://localhost:8080/",
          "height": 137
        },
        "outputId": "cd54545f-210a-4982-9b63-ca1bf781e445"
      },
      "source": [
        "df = pd.DataFrame(columns=results_nodes.keys(), \n",
        "             index=['Only node features', 'Node features + Olliver Curv', 'Node features + Formann Curv'],\n",
        "             data=np.array([list(results_nodes.values()),\n",
        "                        list(results_nodes_curv_olliver.values()),\n",
        "                        list(results_nodes_curv_forman.values())]))\n",
        "df"
      ],
      "execution_count": 70,
      "outputs": [
        {
          "output_type": "execute_result",
          "data": {
            "text/html": [
              "<div>\n",
              "<style scoped>\n",
              "    .dataframe tbody tr th:only-of-type {\n",
              "        vertical-align: middle;\n",
              "    }\n",
              "\n",
              "    .dataframe tbody tr th {\n",
              "        vertical-align: top;\n",
              "    }\n",
              "\n",
              "    .dataframe thead th {\n",
              "        text-align: right;\n",
              "    }\n",
              "</style>\n",
              "<table border=\"1\" class=\"dataframe\">\n",
              "  <thead>\n",
              "    <tr style=\"text-align: right;\">\n",
              "      <th></th>\n",
              "      <th>KNN Classifier</th>\n",
              "      <th>Random Forest</th>\n",
              "      <th>Log Regression</th>\n",
              "    </tr>\n",
              "  </thead>\n",
              "  <tbody>\n",
              "    <tr>\n",
              "      <th>Only node features</th>\n",
              "      <td>0.292348</td>\n",
              "      <td>0.593858</td>\n",
              "      <td>0.603728</td>\n",
              "    </tr>\n",
              "    <tr>\n",
              "      <th>Node features + Olliver Curv</th>\n",
              "      <td>0.292348</td>\n",
              "      <td>0.580824</td>\n",
              "      <td>0.603728</td>\n",
              "    </tr>\n",
              "    <tr>\n",
              "      <th>Node features + Formann Curv</th>\n",
              "      <td>0.292348</td>\n",
              "      <td>0.562157</td>\n",
              "      <td>0.603728</td>\n",
              "    </tr>\n",
              "  </tbody>\n",
              "</table>\n",
              "</div>"
            ],
            "text/plain": [
              "                              KNN Classifier  Random Forest  Log Regression\n",
              "Only node features                  0.292348       0.593858        0.603728\n",
              "Node features + Olliver Curv        0.292348       0.580824        0.603728\n",
              "Node features + Formann Curv        0.292348       0.562157        0.603728"
            ]
          },
          "metadata": {
            "tags": []
          },
          "execution_count": 70
        }
      ]
    },
    {
      "cell_type": "markdown",
      "metadata": {
        "id": "bxUdFqKSaudb",
        "colab_type": "text"
      },
      "source": [
        "## Training"
      ]
    },
    {
      "cell_type": "code",
      "metadata": {
        "id": "xtPrPIm5SPNY",
        "colab_type": "code",
        "colab": {}
      },
      "source": [
        "def train_model(model, \n",
        "                data, \n",
        "                ricci_curvatures_tensor=None, \n",
        "                use_ricci_curvature=False,\n",
        "                n_epochs=150):\n",
        "\n",
        "    data = data.clone().to(device)\n",
        "    optimizer = torch.optim.Adam(model.parameters(), lr=0.001, weight_decay=5e-4)\n",
        "\n",
        "    loss_history = []\n",
        "    acc_history = []\n",
        "    for epoch in tqdm_notebook(range(n_epochs)):\n",
        "        \n",
        "        model.train()\n",
        "        optimizer.zero_grad()\n",
        "        if use_ricci_curvature:\n",
        "            out = model(data, ricci_curvatures_tensor)\n",
        "        else:  \n",
        "            out = model(data)\n",
        "        loss = F.nll_loss(out[data.train_mask], data.y[data.train_mask])\n",
        "        loss.backward()\n",
        "        optimizer.step()\n",
        "        loss_history.append(loss.item())\n",
        "\n",
        "        model.eval()\n",
        "        pred = out\n",
        "        _, pred = pred.max(dim=1)\n",
        "        y_pred = pred[data.test_mask].detach().cpu().numpy()\n",
        "        y_true = data.y[data.test_mask].detach().cpu().numpy()\n",
        "        # correct = float(pred[data.test_mask].eq(data.y[data.test_mask]).sum().item())\n",
        "        acc = f1_metric(y_true, y_pred)\n",
        "        # acc = correct / data.test_mask.sum().item()\n",
        "        acc_history.append(acc)\n",
        "\n",
        "    return loss_history, acc_history"
      ],
      "execution_count": 0,
      "outputs": []
    },
    {
      "cell_type": "code",
      "metadata": {
        "id": "rNq7vDRGpdtt",
        "colab_type": "code",
        "outputId": "9b4b56b4-292b-4125-d5fb-11585954e199",
        "colab": {
          "base_uri": "https://localhost:8080/",
          "height": 350,
          "referenced_widgets": [
            "1396a184eb014db78b9c098d0511ca7d",
            "0004fd45af0d4b389cd520277c981eb8",
            "54f8e6a054cb4b29a9aa4fd36ccb53a4",
            "e91b0b39801a46a78d21573e66ffcb4e",
            "4a608552f4884e4495affcca716f752e",
            "cfc6530df80e47629cda37ef8a085892",
            "30e2dec2607e4b51aeb61594337c659f",
            "cd0a425c143e442aa3f81bed2d3fa0b9",
            "03ab3c57215249188b1aef00ab097b79",
            "f099eb1003c0428d804037450fc827d0",
            "9eff58bcf66941c99442b176f4f96398",
            "f82e2157ff464ed49c943ee7da23e314",
            "45aa50d084b24fc7861931484baf86d0",
            "c10b9dd381c34b02a962c95418e1ef5a",
            "c242c699123c4230b96ad08ebcfe060b",
            "26c02a81fce14c4b92d32086dc9cbe12",
            "1809fc0cca6d447cb3fdf782662fa647",
            "376d7900d6354a02b2a3d1804fca2a53",
            "63381aafe4e24aa4ae353abc9427f105",
            "b15a46583ad74ee8abffe3b41ba44cdc",
            "84461101fbcc41199bffd6f9702d6d29",
            "80680b4adf484aa595ca610138b96ae7",
            "47a28a66e2374b83a653c1bb3b013bfd",
            "9f74ad26f7a84c4f89446fb30e7c86cf",
            "ed3cdcb2223b4352b7638741d6cd00f8",
            "b376a64b61894216b526d95f9cf7fea5",
            "09922453e164435581d92c2cccdc6d0e",
            "8fb076d0cb0c4c80a9f3dd521bd5c553",
            "c93d27eb52f84554aec2789821eb70e6",
            "1f1ee6dd062a424bb1c5d7ec4bebb1d7",
            "f55a3c09e3ac4ed8b239daeb9c3c7b9f",
            "dd5f0df1957441ecafb9c0c5434d83a6"
          ]
        }
      },
      "source": [
        "#################\n",
        "# DEFINE MODELS #\n",
        "#################\n",
        "ricci_curvatures_formann_tensor = get_curvatures_tensor(data, ricci_curvatures_formann).unsqueeze(1)\n",
        "\n",
        "if compute_olliver_ricci:\n",
        "    ricci_curvatures_olliver_tensor = get_curvatures_tensor(data, ricci_curvatures_olliver).unsqueeze(1)\n",
        "if weighted_edges:\n",
        "    edges_weights_tensor = get_curvatures_tensor(data, edges_weights).unsqueeze(1)\n",
        "\n",
        "# edges-weights\n",
        "if weighted_edges:\n",
        "    model_curv_edges = NetСurv(num_features, num_classes).to(device)\n",
        "    out = model_curv_edges(data.to(device), edges_weights_tensor)\n",
        "\n",
        "# oliver-ricci\n",
        "if compute_olliver_ricci:\n",
        "    model_curv_olliver = NetСurv(num_features, num_classes).to(device)\n",
        "    out = model_curv_olliver(data.to(device), ricci_curvatures_olliver_tensor)\n",
        "\n",
        "# formann-ricci\n",
        "model_curv_formann = NetСurv(num_features, num_classes).to(device)\n",
        "out = model_curv_formann(data.to(device), ricci_curvatures_formann_tensor)\n",
        "\n",
        "# zero curvatures\n",
        "model_curv_zeros = NetСurv(num_features, num_classes).to(device)\n",
        "zeros_curvatures = torch.zeros_like(ricci_curvatures_formann_tensor)\n",
        "out = model_curv_zeros(data.to(device), zeros_curvatures)\n",
        "\n",
        "# message-passing\n",
        "model = Net(num_features, num_classes).to(device)\n",
        "out = model(data.to(device))\n",
        "\n",
        "\n",
        "assert(not torch.isnan(ricci_curvatures_formann_tensor).any().item() and \n",
        "       not torch.isnan(ricci_curvatures_olliver_tensor).any().item())\n",
        "\n",
        "################\n",
        "# TRAIN MODELS #\n",
        "################\n",
        "loss_hist, acc_history = train_model(model, data, use_ricci_curvature=False)\n",
        "loss_hist_curv_forman, acc_history_curv_formann = train_model(model_curv_formann,\n",
        "                                                              data, \n",
        "                                                              ricci_curvatures_formann_tensor, \n",
        "                                                              use_ricci_curvature=True)\n",
        "if compute_olliver_ricci:\n",
        "    loss_hist_curv_olliver, acc_history_curv_olliver = train_model(model_curv_olliver, \n",
        "                                                                    data, \n",
        "                                                                    ricci_curvatures_olliver_tensor, \n",
        "                                                                    use_ricci_curvature=True)\n",
        "loss_hist_curv_zeros, acc_history_curv_zeros = train_model(model_curv_zeros,\n",
        "                                                          data, \n",
        "                                                          zeros_curvatures,\n",
        "                                                          use_ricci_curvature=True)\n",
        "if weighted_edges and learn_curv_edges:\n",
        "    loss_hist_curv_edges, acc_history_curv_edges = train_model(model_curv_edges,\n",
        "                                                              data, \n",
        "                                                              edges_weights_tensor,\n",
        "                                                              use_ricci_curvature=True)\n",
        "\n",
        "clear_output()\n",
        "\n",
        "\n",
        "################\n",
        "# PLOT RESULTS #\n",
        "################\n",
        "plt.figure(figsize=(15,5))\n",
        "ax1 = plt.subplot(121)\n",
        "ax2 = plt.subplot(122)\n",
        "\n",
        "ax1.plot(loss_hist, label = 'Message Passing Network')\n",
        "ax1.plot(loss_hist_curv_forman, label = 'Graph Formann-Curvature Network')\n",
        "if compute_olliver_ricci:\n",
        "    ax1.plot(loss_hist_curv_olliver, label = 'Graph Olliver-Curvature Network')\n",
        "# ax1.plot(loss_hist_curv_zeros, label = 'Graph ZERO-CURVATURE Network')\n",
        "if weighted_edges and learn_curv_edges:\n",
        "    ax1.plot(loss_hist_curv_edges, label = 'Graph Edge-Weight-Curv Network')\n",
        "\n",
        "\n",
        "ax2.plot(acc_history, label = 'Message Passing Network')\n",
        "ax2.plot(acc_history_curv_formann, label = 'Graph Formann-Curvature Network')\n",
        "if compute_olliver_ricci:\n",
        "    ax2.plot(acc_history_curv_olliver, label = 'Graph Olliver-Curvature Network')\n",
        "# ax2.plot(acc_history_curv_zeros, label = 'Graph ZERO-CURVATURE Network')\n",
        "if weighted_edges and learn_curv_edges:\n",
        "    ax2.plot(acc_history_curv_edges, label = 'Graph Edge-Weight-Curv Network')\n",
        "\n",
        "marks = ['--', '.', '^']\n",
        "for i,(k,acc) in enumerate(results_nodes.items()):\n",
        "    if k == 'Log Regression':\n",
        "        ax2.plot([acc]*len(acc_history),'--',label=k, alpha=0.8, markersize=1)\n",
        "\n",
        "ax1.legend()\n",
        "ax2.legend()\n",
        "\n",
        "ax1.set_title('Negalive Log-Likelihood')\n",
        "ax2.set_title('F1-score weighted')\n",
        "ax1.set_xlabel('Epoch number')\n",
        "ax2.set_xlabel('Epoch number')\n",
        "\n",
        "plt.show()"
      ],
      "execution_count": 72,
      "outputs": [
        {
          "output_type": "display_data",
          "data": {
            "image/png": "[encoded data removed]",
            "text/plain": [
              "<Figure size 1080x360 with 2 Axes>"
            ]
          },
          "metadata": {
            "tags": [],
            "needs_background": "light"
          }
        }
      ]
    },
    {
      "cell_type": "markdown",
      "metadata": {
        "id": "f3NCqlMc28ff",
        "colab_type": "text"
      },
      "source": [
        "# Graph classification"
      ]
    },
    {
      "cell_type": "code",
      "metadata": {
        "id": "H1xAxWD-29uy",
        "colab_type": "code",
        "colab": {
          "base_uri": "https://localhost:8080/",
          "height": 34
        },
        "outputId": "3b1d9d67-8f73-4ce8-bded-2f75873f12ea"
      },
      "source": [
        "import grakel\n",
        "from grakel import GraphKernel\n",
        "from grakel.kernels import VertexHistogram, ShortestPath, WeisfeilerLehman, EdgeHistogram, CoreFramework, PropagationAttr\n",
        "from grakel.datasets import fetch_dataset\n",
        "\n",
        "mutag = fetch_dataset(\"MUTAG\", verbose=False, as_graphs=False)\n",
        "mutag_G = fetch_dataset(\"MUTAG\", verbose=False, as_graphs=True)\n",
        "X_mutag, y_mutag = mutag.data, mutag.target\n",
        "y_mutag.shape"
      ],
      "execution_count": 133,
      "outputs": [
        {
          "output_type": "execute_result",
          "data": {
            "text/plain": [
              "(188,)"
            ]
          },
          "metadata": {
            "tags": []
          },
          "execution_count": 133
        }
      ]
    },
    {
      "cell_type": "code",
      "metadata": {
        "id": "5bCawhHhFfNs",
        "colab_type": "code",
        "colab": {
          "base_uri": "https://localhost:8080/",
          "height": 264
        },
        "outputId": "88304f35-4601-4ae0-9793-24faa88550e0"
      },
      "source": [
        "plt.hist(y_mutag,bins=len(np.unique(y_mutag)))\n",
        "plt.show()"
      ],
      "execution_count": 73,
      "outputs": [
        {
          "output_type": "display_data",
          "data": {
            "image/png": "[encoded data removed]",
            "text/plain": [
              "<Figure size 432x288 with 1 Axes>"
            ]
          },
          "metadata": {
            "tags": [],
            "needs_background": "light"
          }
        }
      ]
    },
    {
      "cell_type": "code",
      "metadata": {
        "id": "9bq3pG8l0wvN",
        "colab_type": "code",
        "colab": {
          "base_uri": "https://localhost:8080/",
          "height": 318
        },
        "outputId": "37f65409-fb61-4cad-b6a4-3b92f9273af6"
      },
      "source": [
        "X_mutag_nx = []\n",
        "for (edges, nodes, edges_labels) in X_mutag: \n",
        "    g = nx.DiGraph()\n",
        "    g.add_edges_from(edges)\n",
        "    X_mutag_nx.append(g)\n",
        "nx.draw(X_mutag_nx[0], with_labels=True, font_weight='bold')"
      ],
      "execution_count": 75,
      "outputs": [
        {
          "output_type": "display_data",
          "data": {
            "image/png": "[encoded data removed]",
            "text/plain": [
              "<Figure size 432x288 with 1 Axes>"
            ]
          },
          "metadata": {
            "tags": []
          }
        }
      ]
    },
    {
      "cell_type": "code",
      "metadata": {
        "id": "XvY-u5X5CTq3",
        "colab_type": "code",
        "colab": {
          "base_uri": "https://localhost:8080/",
          "height": 34
        },
        "outputId": "78d7ad2b-b152-4505-abaf-48ada5e33c02"
      },
      "source": [
        "g_nx = X_mutag_nx[0]\n",
        "g_nx.number_of_edges()"
      ],
      "execution_count": 76,
      "outputs": [
        {
          "output_type": "execute_result",
          "data": {
            "text/plain": [
              "38"
            ]
          },
          "metadata": {
            "tags": []
          },
          "execution_count": 76
        }
      ]
    },
    {
      "cell_type": "code",
      "metadata": {
        "id": "4SiNz3VwCfq-",
        "colab_type": "code",
        "colab": {
          "base_uri": "https://localhost:8080/",
          "height": 34
        },
        "outputId": "592a8578-53d8-46a4-e957-18ea3fbf1fa1"
      },
      "source": [
        "g_gk = mutag_G.data[0]\n",
        "len(g_gk.get_edges())"
      ],
      "execution_count": 67,
      "outputs": [
        {
          "output_type": "execute_result",
          "data": {
            "text/plain": [
              "38"
            ]
          },
          "metadata": {
            "tags": []
          },
          "execution_count": 67
        }
      ]
    },
    {
      "cell_type": "code",
      "metadata": {
        "id": "V1jfUa8XDHKQ",
        "colab_type": "code",
        "colab": {
          "base_uri": "https://localhost:8080/",
          "height": 34
        },
        "outputId": "d9ad687a-68bc-423a-c42b-79925076c80f"
      },
      "source": [
        "len(X_mutag[0][0])"
      ],
      "execution_count": 78,
      "outputs": [
        {
          "output_type": "execute_result",
          "data": {
            "text/plain": [
              "38"
            ]
          },
          "metadata": {
            "tags": []
          },
          "execution_count": 78
        }
      ]
    },
    {
      "cell_type": "code",
      "metadata": {
        "id": "oFZWjKZQ0w9R",
        "colab_type": "code",
        "colab": {
          "base_uri": "https://localhost:8080/",
          "height": 16,
          "referenced_widgets": [
            "b626674abd154f5f9344df7895272ce0",
            "068fc539ddc744069297046f7478de1f",
            "4f7859719c2b4f7f862c4a5ddbb755cd",
            "6e263ed43bf14bd09931f9f7c940abe1",
            "aeacdc6c3aae466bba372f42621dc01a",
            "dec616bcba834b509229f65e7462a4dc",
            "803ed398b5e34234841ef52f08de2d16",
            "72945cbb82844451b343b920c5ebbaf7"
          ]
        },
        "outputId": "4d4a5967-2a5b-4fca-915e-56f4a90f6da1"
      },
      "source": [
        "from collections import defaultdict\n",
        "edges_curvatures = defaultdict(list)\n",
        "nodes_curvatures = defaultdict(list)\n",
        "\n",
        "for data_nx in tqdm_notebook(X_mutag_nx):\n",
        "    weighted_edges = False \n",
        "\n",
        "    orc = OllivierRicci(data_nx, alpha=0.5, verbose=\"ERROR\", nbr_topk=100)\n",
        "    _ = orc.compute_ricci_curvature()\n",
        "    G_orc = orc.G.copy()\n",
        "    ricci_curvatures_olliver = {(v1,v2):G_orc[v1][v2]['ricciCurvature'] if hasattr(G_orc[v1][v2],'ricciCurvature') else 1e-15 for v1,v2 in list(G_orc.edges)}\n",
        "    ricci_curvatures_olliver_nodes = {i:G_orc.nodes[i]['ricciCurvature'] if hasattr(G_orc.nodes[i],'ricciCurvature') else 1e-15 for i in list(G_orc.nodes)}\n",
        "\n",
        "    G_frc = FormannCurvature(data_nx, weighted=weighted_edges)\n",
        "    ricci_curvatures_formann = {(v1,v2):G_frc.nodes[v1][v2]['formanCurvature'] if hasattr(G_frc[v1][v2], 'formanCurvature') else 1e-15 for  v1,v2 in list(G_frc.edges)}\n",
        "    ricci_curvatures_formann_nodes = {i:G_frc.nodes[i]['formanCurvature'] if hasattr(G_frc.nodes[i], 'formanCurvature') else 1e-15 for i in list(G_frc.nodes)} \n",
        "\n",
        "    edges_curvatures['Olliver'].append(ricci_curvatures_olliver)\n",
        "    edges_curvatures['Formann'].append(ricci_curvatures_formann)\n",
        "\n",
        "    nodes_curvatures['Olliver'].append(ricci_curvatures_olliver_nodes)\n",
        "    nodes_curvatures['Formann'].append(ricci_curvatures_formann_nodes)\n",
        "\n",
        "    # edges_weights =  nx.get_edge_attributes(data_nx, \"weight\")\n",
        "clear_output()    "
      ],
      "execution_count": 77,
      "outputs": []
    },
    {
      "cell_type": "code",
      "metadata": {
        "id": "qTA4S5LJ2NTX",
        "colab_type": "code",
        "colab": {}
      },
      "source": [
        "# olliver\n",
        "X_mutag_G_curv_olliver = []\n",
        "for i,(edges, nodes, edges_labels) in enumerate(X_mutag): \n",
        "    nodes_attributes = {}\n",
        "    edge_attributes = {}\n",
        "    for k,v in nodes.items():\n",
        "        nodes_attributes[k] = (v,nodes_curvatures['Olliver'][i][k])\n",
        "    for k,v in edges_labels.items():\n",
        "        edge_attributes[k] = (v,edges_curvatures['Olliver'][i][k])\n",
        "\n",
        "    g = grakel.Graph(edges, edge_labels=edge_attributes, node_labels=nodes_attributes)    \n",
        "    X_mutag_G_curv_olliver.append(g)\n",
        "\n",
        "# formann\n",
        "X_mutag_G_curv_formann = []\n",
        "for i,(edges, nodes, edges_labels) in enumerate(X_mutag): \n",
        "    nodes_attributes = {}\n",
        "    edge_attributes = {}\n",
        "    for k,v in nodes.items():\n",
        "        nodes_attributes[k] = (v,nodes_curvatures['Formann'][i][k])\n",
        "    for k,v in edges_labels.items():\n",
        "        edge_attributes[k] = (v,edges_curvatures['Formann'][i][k])\n",
        "\n",
        "    g = grakel.Graph(edges, edge_labels=edge_attributes, node_labels=nodes_attributes)    \n",
        "    X_mutag_G_curv_formann.append(g)    \n",
        "\n",
        "# both\n",
        "X_mutag_G_curv_both = []\n",
        "for i,(edges, nodes, edges_labels) in enumerate(X_mutag): \n",
        "    nodes_attributes = {}\n",
        "    edge_attributes = {}\n",
        "    for k,v in nodes.items():\n",
        "        nodes_attributes[k] = (v,nodes_curvatures['Formann'][i][k], nodes_curvatures['Olliver'][i][k])\n",
        "    for k,v in edges_labels.items():\n",
        "        edge_attributes[k] = (v,edges_curvatures['Formann'][i][k], edges_curvatures['Olliver'][i][k])\n",
        "\n",
        "    g = grakel.Graph(edges, edge_labels=edge_attributes, node_labels=nodes_attributes)    \n",
        "    X_mutag_G_curv_both.append(g)    "
      ],
      "execution_count": 0,
      "outputs": []
    },
    {
      "cell_type": "code",
      "metadata": {
        "id": "hhv1y-38dFyz",
        "colab_type": "code",
        "colab": {}
      },
      "source": [
        "X_mutag_unsqueezed = []\n",
        "for i,(edges, nodes, edges_labels) in enumerate(X_mutag): \n",
        "    nodes_attributes = {}\n",
        "    edge_attributes = {}\n",
        "    for k,v in nodes.items():\n",
        "        nodes_attributes[k] = [v]\n",
        "    for k,v in edges_labels.items():\n",
        "        edge_attributes[k] = [v]\n",
        "    X_mutag_unsqueezed.append((edges, nodes_attributes, edge_attributes))    "
      ],
      "execution_count": 0,
      "outputs": []
    },
    {
      "cell_type": "code",
      "metadata": {
        "id": "iIfx1ARA4V9Q",
        "colab_type": "code",
        "colab": {}
      },
      "source": [
        "base_graph_kernel = EdgeHistogram\n",
        "method, params = {'PropagationAttr':[PropagationAttr,{'normalize':True}],\n",
        "                  'ShortestPath':[ShortestPath,{}],\n",
        "                  'CoreFramework':[CoreFramework, \n",
        "                                   {'normalize':True, \n",
        "                                    'base_graph_kernel':base_graph_kernel}],\n",
        "                  'WeisfeilerLehman':[WeisfeilerLehman, \n",
        "                                      {'normalize':True, \n",
        "                                       'base_graph_kernel':base_graph_kernel}]}['PropagationAttr'] #WeisfeilerLehman\n",
        "\n",
        "\n",
        "wl_kernel = method(**params)\n",
        "K = wl_kernel.fit_transform(X_mutag_unsqueezed)\n",
        "\n",
        "# olliver\n",
        "wl_kernel_curv_O = method(**params)\n",
        "K_curv_olliver = wl_kernel_curv_O.fit_transform(X_mutag_G_curv_olliver)\n",
        "\n",
        "# formann\n",
        "wl_kernel_curv_F = method(**params)\n",
        "K_curv_formann = wl_kernel_curv_F.fit_transform(X_mutag_G_curv_formann)\n",
        "\n",
        "# both\n",
        "wl_kernel_curv_B = method(**params)\n",
        "K_curv_both = wl_kernel_curv_B.fit_transform(X_mutag_G_curv_both)\n",
        "\n",
        "assert (K != K_curv_olliver).any()"
      ],
      "execution_count": 0,
      "outputs": []
    },
    {
      "cell_type": "code",
      "metadata": {
        "id": "uLRgNd5Z6EY8",
        "colab_type": "code",
        "colab": {}
      },
      "source": [
        "models = {'KNN Classifier':KNeighborsClassifier,\n",
        "          'Random Forest':RandomForestClassifier,\n",
        "          'Log Regression':LogisticRegression}\n",
        "\n",
        "models_params = {'KNN Classifier':{'n_neighbors':[2,5,10],\n",
        "                                    'weights':['uniform', 'distance'], \n",
        "                                    'p':[1,2,3]},\n",
        "                  'Random Forest':{'max_depth':[2,5,None], \n",
        "                                   'criterion':['gini', 'entropy']},\n",
        "                  'Log Regression':{'penalty':['l1','l2','none'],\n",
        "                                    'C':[1., 1e-1, 1e-3],\n",
        "                                    'multi_class':['multinomial']}\n",
        "                  }         \n",
        "\n",
        "results_nodes = train_val_clf(models, \n",
        "                              data=None, \n",
        "                              X=K, \n",
        "                              y=y_mutag, \n",
        "                              metric=f1_metric, \n",
        "                              gridsearch=True, \n",
        "                              models_params=models_params)\n",
        "results_nodes_curv_olliver = train_val_clf(models, \n",
        "                                           data=None, \n",
        "                                           X=K_curv_olliver, \n",
        "                                           y=y_mutag, \n",
        "                                           metric=f1_metric, \n",
        "                                           gridsearch=True, \n",
        "                                           models_params=models_params)\n",
        "results_nodes_curv_forman = train_val_clf(models, \n",
        "                                          data=None, \n",
        "                                          X=K_curv_formann, \n",
        "                                          y=y_mutag, \n",
        "                                          metric=f1_metric, \n",
        "                                          gridsearch=True, \n",
        "                                          models_params=models_params)\n",
        "results_nodes_curv_both = train_val_clf(models, \n",
        "                                        data=None, \n",
        "                                        X=K_curv_both, \n",
        "                                        y=y_mutag, metric=f1_metric, \n",
        "                                        gridsearch=True, \n",
        "                                        models_params=models_params)\n",
        "\n",
        "clear_output()"
      ],
      "execution_count": 0,
      "outputs": []
    },
    {
      "cell_type": "code",
      "metadata": {
        "id": "ALaQ9qnpep9N",
        "colab_type": "code",
        "colab": {
          "base_uri": "https://localhost:8080/",
          "height": 167
        },
        "outputId": "cd6a8fad-23c3-47eb-954f-a78e12cb85f4"
      },
      "source": [
        "df = pd.DataFrame(columns=results_nodes.keys(), \n",
        "             index=['Only node features', 'Node features + Olliver Curv', 'Node features + Formann Curv', 'Node features + Olliver&Formann Curv'],\n",
        "             data=np.array([list(results_nodes.values()),\n",
        "                        list(results_nodes_curv_olliver.values()),\n",
        "                        list(results_nodes_curv_forman.values()),\n",
        "                        list(results_nodes_curv_both.values())]))\n",
        "df"
      ],
      "execution_count": 170,
      "outputs": [
        {
          "output_type": "execute_result",
          "data": {
            "text/html": [
              "<div>\n",
              "<style scoped>\n",
              "    .dataframe tbody tr th:only-of-type {\n",
              "        vertical-align: middle;\n",
              "    }\n",
              "\n",
              "    .dataframe tbody tr th {\n",
              "        vertical-align: top;\n",
              "    }\n",
              "\n",
              "    .dataframe thead th {\n",
              "        text-align: right;\n",
              "    }\n",
              "</style>\n",
              "<table border=\"1\" class=\"dataframe\">\n",
              "  <thead>\n",
              "    <tr style=\"text-align: right;\">\n",
              "      <th></th>\n",
              "      <th>KNN Classifier</th>\n",
              "      <th>Random Forest</th>\n",
              "      <th>Log Regression</th>\n",
              "    </tr>\n",
              "  </thead>\n",
              "  <tbody>\n",
              "    <tr>\n",
              "      <th>Only node features</th>\n",
              "      <td>0.775132</td>\n",
              "      <td>0.815747</td>\n",
              "      <td>0.601221</td>\n",
              "    </tr>\n",
              "    <tr>\n",
              "      <th>Node features + Olliver Curv</th>\n",
              "      <td>0.579928</td>\n",
              "      <td>0.656390</td>\n",
              "      <td>0.692042</td>\n",
              "    </tr>\n",
              "    <tr>\n",
              "      <th>Node features + Formann Curv</th>\n",
              "      <td>0.797479</td>\n",
              "      <td>0.771463</td>\n",
              "      <td>0.701144</td>\n",
              "    </tr>\n",
              "    <tr>\n",
              "      <th>Node features + Olliver&amp;Formann Curv</th>\n",
              "      <td>0.715245</td>\n",
              "      <td>0.681236</td>\n",
              "      <td>0.708809</td>\n",
              "    </tr>\n",
              "  </tbody>\n",
              "</table>\n",
              "</div>"
            ],
            "text/plain": [
              "                                      KNN Classifier  ...  Log Regression\n",
              "Only node features                          0.775132  ...        0.601221\n",
              "Node features + Olliver Curv                0.579928  ...        0.692042\n",
              "Node features + Formann Curv                0.797479  ...        0.701144\n",
              "Node features + Olliver&Formann Curv        0.715245  ...        0.708809\n",
              "\n",
              "[4 rows x 3 columns]"
            ]
          },
          "metadata": {
            "tags": []
          },
          "execution_count": 170
        }
      ]
    },
    {
      "cell_type": "markdown",
      "metadata": {
        "id": "4EZEyW3Wl44r",
        "colab_type": "text"
      },
      "source": [
        "# Motor imagery in ECoG recordings"
      ]
    },
    {
      "cell_type": "code",
      "metadata": {
        "id": "13m13ebml2k0",
        "colab_type": "code",
        "colab": {}
      },
      "source": [
        "aj_data = np.load('/content/aj_matrix_3d.npy')\n",
        "aj_test = np.load('/content/aj_matrix_3d_test.npy')\n",
        "with open('/content/Competition_train_lab.txt', 'r') as file:\n",
        "    target = file.readlines()\n",
        "target = [int(t[:-2]) for t in target]"
      ],
      "execution_count": 0,
      "outputs": []
    },
    {
      "cell_type": "code",
      "metadata": {
        "id": "V-FDQ5xfmMz4",
        "colab_type": "code",
        "colab": {
          "base_uri": "https://localhost:8080/",
          "height": 267
        },
        "outputId": "466afc7e-e677-4942-c446-c798c8825867"
      },
      "source": [
        "def to_adj(A,eps=0.5):\n",
        "    A = np.abs(A.copy())\n",
        "    A[A < eps] = 0\n",
        "    A[A >= eps] = 1\n",
        "    return A\n",
        "\n",
        "plt.imshow(to_adj(aj_data[0]))   \n",
        "plt.show()"
      ],
      "execution_count": 352,
      "outputs": [
        {
          "output_type": "display_data",
          "data": {
            "image/png": "[encoded data removed]",
            "text/plain": [
              "<Figure size 432x288 with 1 Axes>"
            ]
          },
          "metadata": {
            "tags": [],
            "needs_background": "light"
          }
        }
      ]
    },
    {
      "cell_type": "code",
      "metadata": {
        "id": "mhmhl6KMnO2k",
        "colab_type": "code",
        "colab": {}
      },
      "source": [
        "E = np.eye(aj_data.shape[-1])\n",
        "graphs = [nx.from_numpy_matrix(to_adj(aj_data[i])-E).to_directed() for i in range(aj_data.shape[0])] # .to_directed()"
      ],
      "execution_count": 0,
      "outputs": []
    },
    {
      "cell_type": "code",
      "metadata": {
        "id": "ZjT_ijtPn6Nc",
        "colab_type": "code",
        "colab": {}
      },
      "source": [
        "from collections import defaultdict\n",
        "edges_curvatures = defaultdict(list)\n",
        "nodes_curvatures = defaultdict(list)\n",
        "\n",
        "for graph in tqdm_notebook(graphs):\n",
        "    weighted_edges = False \n",
        "\n",
        "    orc = OllivierRicci(graph, alpha=0.5, verbose=\"ERROR\", nbr_topk=100)\n",
        "    _ = orc.compute_ricci_curvature()\n",
        "    G_orc = orc.G.copy()\n",
        "    ricci_curvatures_olliver = {(v1,v2):G_orc[v1][v2]['ricciCurvature']for v1,v2 in list(G_orc.edges)} # if hasattr(G_orc[v1][v2],'ricciCurvature')  else 1e-15 \n",
        "    ricci_curvatures_olliver_nodes = {i:G_orc.nodes[i]['ricciCurvature'] if hasattr(G_orc.nodes[i],'ricciCurvature') else 1e-15 for i in list(G_orc.nodes)}\n",
        "\n",
        "    G_frc = FormannCurvature(graph, weighted=weighted_edges)\n",
        "    ricci_curvatures_formann = {(v1,v2):G_frc[v1][v2]['formanCurvature'] for v1,v2 in list(G_frc.edges)} # if hasattr(G_frc[v1][v2], 'formanCurvature') else 1e-15\n",
        "    ricci_curvatures_formann_nodes = {i:G_frc.nodes[i]['formanCurvature'] if hasattr(G_frc.nodes[i], 'formanCurvature') else 1e-15 for i in list(G_frc.nodes)} \n",
        "\n",
        "    edges_curvatures['Olliver'].append(ricci_curvatures_olliver)\n",
        "    edges_curvatures['Formann'].append(ricci_curvatures_formann)\n",
        "\n",
        "    nodes_curvatures['Olliver'].append(ricci_curvatures_olliver_nodes)\n",
        "    nodes_curvatures['Formann'].append(ricci_curvatures_formann_nodes)\n",
        "\n",
        "clear_output()   "
      ],
      "execution_count": 0,
      "outputs": []
    },
    {
      "cell_type": "code",
      "metadata": {
        "id": "X7jLAZCtvMi6",
        "colab_type": "code",
        "colab": {
          "base_uri": "https://localhost:8080/",
          "height": 120,
          "referenced_widgets": [
            "01cc34a732f447dc9805d8d04e8546a2",
            "4f21f3ecd88e43fb8df65e24a3bd171c",
            "bfc67e872b6e4bb788dd707f7335aaea",
            "a69b6c95b451441a9b67c5ea7ccf27f7",
            "88d1372b56524e5a80778ca3d60e24d6",
            "d3b450118ee248cd8f81c5408b39b890",
            "745fd7c814684970a0076605da1b384e",
            "e6893032d59247db8345dc779771b686"
          ]
        },
        "outputId": "9b36a296-e15f-4efb-fff0-834f53efae90"
      },
      "source": [
        "graphs_collection = {}\n",
        "graphs_types = ['Node features', 'Node-Olliver', 'Node-Formann', 'Node-Olliver-Formann']\n",
        "\n",
        "for graph_type in tqdm_notebook(graphs_types):\n",
        "    new_graphs = []\n",
        "    for k,graph in enumerate(graphs):\n",
        "        for (v1,v2) in graph.edges:\n",
        "            edge_features = {'Node features':[1],\n",
        "                             'Node-Olliver':[edges_curvatures['Olliver'][k][(v1,v2)]], \n",
        "                             'Node-Formann':[edges_curvatures['Formann'][k][(v1,v2)]], \n",
        "                             'Node-Olliver-Formann':[edges_curvatures['Olliver'][k][(v1,v2)],\n",
        "                                                     edges_curvatures['Formann'][k][(v1,v2)]],\n",
        "                             }[graph_type]\n",
        "            graph[v1][v2]['edge_label'] = edge_features\n",
        "        for i in graph.nodes:\n",
        "            node_features = {'Node features':[len(graph[i])],\n",
        "                              'Node-Olliver':[len(graph[i]),nodes_curvatures['Olliver'][k][i]], \n",
        "                              'Node-Formann':[len(graph[i]),nodes_curvatures['Formann'][k][i]], \n",
        "                              'Node-Olliver-Formann':[len(graph[i]),\n",
        "                                                      nodes_curvatures['Olliver'][k][i],\n",
        "                                                      nodes_curvatures['Formann'][k][i]],\n",
        "                              }[graph_type]\n",
        "            graph.nodes[i]['node_label'] = node_features\n",
        "        new_graphs.append(graph)    \n",
        "    graphs_collection[graph_type] = new_graphs"
      ],
      "execution_count": 357,
      "outputs": [
        {
          "output_type": "stream",
          "text": [
            "/usr/local/lib/python3.6/dist-packages/ipykernel_launcher.py:4: TqdmDeprecationWarning: This function will be removed in tqdm==5.0.0\n",
            "Please use `tqdm.notebook.tqdm` instead of `tqdm.tqdm_notebook`\n",
            "  after removing the cwd from sys.path.\n"
          ],
          "name": "stderr"
        },
        {
          "output_type": "display_data",
          "data": {
            "application/vnd.jupyter.widget-view+json": {
              "model_id": "01cc34a732f447dc9805d8d04e8546a2",
              "version_minor": 0,
              "version_major": 2
            },
            "text/plain": [
              "HBox(children=(FloatProgress(value=0.0, max=4.0), HTML(value='')))"
            ]
          },
          "metadata": {
            "tags": []
          }
        },
        {
          "output_type": "stream",
          "text": [
            "\n"
          ],
          "name": "stdout"
        }
      ]
    },
    {
      "cell_type": "code",
      "metadata": {
        "id": "F4JhvwNWssRS",
        "colab_type": "code",
        "colab": {}
      },
      "source": [
        "graphs_gk_weight = list(grakel.graph_from_networkx(graphs_weighted, node_labels_tag='node_label', edge_labels_tag='edge_label'))"
      ],
      "execution_count": 0,
      "outputs": []
    },
    {
      "cell_type": "code",
      "metadata": {
        "id": "sorA_N4u-QA8",
        "colab_type": "code",
        "colab": {
          "base_uri": "https://localhost:8080/",
          "height": 120,
          "referenced_widgets": [
            "e57e1729d9c04b1e90b03bfdc5130bf1",
            "f82dfb8cbab84e79b93dd8ded1382c16",
            "b9f109e6ecd146b6b66eaf38504bc7d5",
            "4b43b08869174af881729417a0f48ac9",
            "dcb2b45b1d7c41188fd138c00a287e45",
            "9b6ce04e97544eacb79fb845f9c5878c",
            "eff7a5d6d72d4084b4c5cc3329e319d2",
            "e16cf1aedf5245f3855b559880e1ae27"
          ]
        },
        "outputId": "9bf98087-bd1d-4c41-a105-82de2a5a65b4"
      },
      "source": [
        "graphs_collection_gk_collection = {}\n",
        "for graph_type in tqdm_notebook(graphs_types):\n",
        "    graphs_collection_gk_collection[graph_type] = list(grakel.graph_from_networkx(graphs_collection[graph_type],\n",
        "                                                                                  node_labels_tag='node_label',\n",
        "                                                                                  edge_labels_tag='edge_label'))"
      ],
      "execution_count": 360,
      "outputs": [
        {
          "output_type": "stream",
          "text": [
            "/usr/local/lib/python3.6/dist-packages/ipykernel_launcher.py:2: TqdmDeprecationWarning: This function will be removed in tqdm==5.0.0\n",
            "Please use `tqdm.notebook.tqdm` instead of `tqdm.tqdm_notebook`\n",
            "  \n"
          ],
          "name": "stderr"
        },
        {
          "output_type": "display_data",
          "data": {
            "application/vnd.jupyter.widget-view+json": {
              "model_id": "e57e1729d9c04b1e90b03bfdc5130bf1",
              "version_minor": 0,
              "version_major": 2
            },
            "text/plain": [
              "HBox(children=(FloatProgress(value=0.0, max=4.0), HTML(value='')))"
            ]
          },
          "metadata": {
            "tags": []
          }
        },
        {
          "output_type": "stream",
          "text": [
            "\n"
          ],
          "name": "stdout"
        }
      ]
    },
    {
      "cell_type": "code",
      "metadata": {
        "id": "8FOEUAg9vjUv",
        "colab_type": "code",
        "colab": {
          "base_uri": "https://localhost:8080/",
          "height": 155,
          "referenced_widgets": [
            "a3f8853fe52a4aafbeab730fd8ad3af3",
            "8490c5d620e347449f58baee9af0e46f",
            "4c0cfd7127014e51b47a4f3345a7d349",
            "e28824bab48a4e0e88e4cee146b91a31",
            "cca1c9791a724aad9580fd7d8c3b5eee",
            "d924135689544cbbb76869a6083c64d7",
            "0d5dab1ed9fe4e5fb14dd3d99afade2f",
            "dc4089cba88a489cb7510da7598b35d7"
          ]
        },
        "outputId": "edf8efc3-e390-4d2b-f530-07e67e98ac34"
      },
      "source": [
        "base_graph_kernel = EdgeHistogram\n",
        "method, params = {'PropagationAttr':[PropagationAttr,{'normalize':True}],\n",
        "                  'ShortestPath':[ShortestPath,{}],\n",
        "                  'CoreFramework':[CoreFramework, \n",
        "                                   {'normalize':True, \n",
        "                                    'base_graph_kernel':base_graph_kernel}],\n",
        "                  'WeisfeilerLehman':[WeisfeilerLehman, \n",
        "                                      {'normalize':True, \n",
        "                                       'base_graph_kernel':base_graph_kernel}]}['PropagationAttr'] #WeisfeilerLehman\n",
        "\n",
        "\n",
        "\n",
        "kernel_results = {}\n",
        "for graph_type in tqdm_notebook(graphs_types):\n",
        "    wl_kernel = method(**params)\n",
        "    K = wl_kernel.fit_transform(graphs_collection_gk_collection[graph_type])\n",
        "    kernel_results[graph_type] = K"
      ],
      "execution_count": 361,
      "outputs": [
        {
          "output_type": "stream",
          "text": [
            "/usr/local/lib/python3.6/dist-packages/ipykernel_launcher.py:14: TqdmDeprecationWarning: This function will be removed in tqdm==5.0.0\n",
            "Please use `tqdm.notebook.tqdm` instead of `tqdm.tqdm_notebook`\n",
            "  \n"
          ],
          "name": "stderr"
        },
        {
          "output_type": "display_data",
          "data": {
            "application/vnd.jupyter.widget-view+json": {
              "model_id": "a3f8853fe52a4aafbeab730fd8ad3af3",
              "version_minor": 0,
              "version_major": 2
            },
            "text/plain": [
              "HBox(children=(FloatProgress(value=0.0, max=4.0), HTML(value='')))"
            ]
          },
          "metadata": {
            "tags": []
          }
        },
        {
          "output_type": "stream",
          "text": [
            "/usr/local/lib/python3.6/dist-packages/grakel/kernels/propagation.py:527: RuntimeWarning: invalid value encountered in true_divide\n",
            "  transition_matrix[n] = (T.T / np.sum(T, axis=1)).T\n"
          ],
          "name": "stderr"
        },
        {
          "output_type": "stream",
          "text": [
            "\n"
          ],
          "name": "stdout"
        }
      ]
    },
    {
      "cell_type": "code",
      "metadata": {
        "id": "rxOcP7sxxy_4",
        "colab_type": "code",
        "colab": {}
      },
      "source": [
        "models = {'KNN Classifier':KNeighborsClassifier,\n",
        "          'Random Forest':RandomForestClassifier,\n",
        "          'Log Regression':LogisticRegression}\n",
        "\n",
        "models_params = {'KNN Classifier':{'n_neighbors':[2,5,10],\n",
        "                                    'weights':['uniform', 'distance'], \n",
        "                                    'p':[1,2,3]},\n",
        "                  'Random Forest':{'max_depth':[2,5,None], \n",
        "                                   'criterion':['gini', 'entropy']},\n",
        "                  'Log Regression':{'penalty':['l1','l2','none'],\n",
        "                                    'C':[1., 1e-1, 1e-3],\n",
        "                                    'multi_class':['multinomial']}\n",
        "                  }         \n",
        "\n",
        "results = {}\n",
        "for k,X in kernel_results.items():\n",
        "    results[k] = train_val_clf(models, \n",
        "                                  data=None, \n",
        "                                  X=X, \n",
        "                                  y=target, \n",
        "                                  metric=f1_metric, \n",
        "                                  gridsearch=True, \n",
        "                                  models_params=models_params)\n",
        "clear_output()"
      ],
      "execution_count": 0,
      "outputs": []
    },
    {
      "cell_type": "code",
      "metadata": {
        "id": "zWYsYrxa_FcA",
        "colab_type": "code",
        "colab": {
          "base_uri": "https://localhost:8080/",
          "height": 167
        },
        "outputId": "15d51a78-080e-4928-a1a3-7a8f2c2b3699"
      },
      "source": [
        "df = pd.DataFrame(columns=results_nodes.keys(), \n",
        "             index=['Only node features', 'Node features + Olliver Curv', 'Node features + Formann Curv', 'Node features + Olliver&Formann Curv'],\n",
        "             data=np.array([list(results['Node features'].values()),\n",
        "                        list(results['Node-Olliver'].values()),\n",
        "                        list(results['Node-Formann'].values()),\n",
        "                        list(results['Node-Olliver-Formann'].values())]))\n",
        "df"
      ],
      "execution_count": 363,
      "outputs": [
        {
          "output_type": "execute_result",
          "data": {
            "text/html": [
              "<div>\n",
              "<style scoped>\n",
              "    .dataframe tbody tr th:only-of-type {\n",
              "        vertical-align: middle;\n",
              "    }\n",
              "\n",
              "    .dataframe tbody tr th {\n",
              "        vertical-align: top;\n",
              "    }\n",
              "\n",
              "    .dataframe thead th {\n",
              "        text-align: right;\n",
              "    }\n",
              "</style>\n",
              "<table border=\"1\" class=\"dataframe\">\n",
              "  <thead>\n",
              "    <tr style=\"text-align: right;\">\n",
              "      <th></th>\n",
              "      <th>KNN Classifier</th>\n",
              "      <th>Random Forest</th>\n",
              "      <th>Log Regression</th>\n",
              "    </tr>\n",
              "  </thead>\n",
              "  <tbody>\n",
              "    <tr>\n",
              "      <th>Only node features</th>\n",
              "      <td>0.479249</td>\n",
              "      <td>0.490388</td>\n",
              "      <td>0.585969</td>\n",
              "    </tr>\n",
              "    <tr>\n",
              "      <th>Node features + Olliver Curv</th>\n",
              "      <td>0.538840</td>\n",
              "      <td>0.451105</td>\n",
              "      <td>0.522420</td>\n",
              "    </tr>\n",
              "    <tr>\n",
              "      <th>Node features + Formann Curv</th>\n",
              "      <td>0.479001</td>\n",
              "      <td>0.451105</td>\n",
              "      <td>0.429149</td>\n",
              "    </tr>\n",
              "    <tr>\n",
              "      <th>Node features + Olliver&amp;Formann Curv</th>\n",
              "      <td>0.555140</td>\n",
              "      <td>0.507102</td>\n",
              "      <td>0.456522</td>\n",
              "    </tr>\n",
              "  </tbody>\n",
              "</table>\n",
              "</div>"
            ],
            "text/plain": [
              "                                      KNN Classifier  ...  Log Regression\n",
              "Only node features                          0.479249  ...        0.585969\n",
              "Node features + Olliver Curv                0.538840  ...        0.522420\n",
              "Node features + Formann Curv                0.479001  ...        0.429149\n",
              "Node features + Olliver&Formann Curv        0.555140  ...        0.456522\n",
              "\n",
              "[4 rows x 3 columns]"
            ]
          },
          "metadata": {
            "tags": []
          },
          "execution_count": 363
        }
      ]
    },
    {
      "cell_type": "code",
      "metadata": {
        "id": "Oosrl-x5A_ZV",
        "colab_type": "code",
        "colab": {}
      },
      "source": [
        ""
      ],
      "execution_count": 0,
      "outputs": []
    }
  ]
}