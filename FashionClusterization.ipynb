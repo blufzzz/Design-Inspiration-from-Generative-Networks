{
 "cells": [
  {
   "cell_type": "code",
   "execution_count": 1,
   "metadata": {},
   "outputs": [
    {
     "name": "stdout",
     "output_type": "stream",
     "text": [
      "Collecting easydict\n",
      "  Downloading https://files.pythonhosted.org/packages/4c/c5/5757886c4f538c1b3f95f6745499a24bffa389a805dee92d093e2d9ba7db/easydict-1.9.tar.gz\n",
      "Building wheels for collected packages: easydict\n",
      "  Building wheel for easydict (setup.py) ... \u001b[?25ldone\n",
      "\u001b[?25h  Created wheel for easydict: filename=easydict-1.9-cp36-none-any.whl size=6349 sha256=c778c7555183559d443df208ec404d4df48f627bd0884c1c15c1d714c16b1dc3\n",
      "  Stored in directory: /tmp/.cache/pip/wheels/9a/88/ec/085d92753646b0eda1b7df49c7afe51a6ecc496556d3012e2e\n",
      "Successfully built easydict\n",
      "Installing collected packages: easydict\n",
      "Successfully installed easydict-1.9\n"
     ]
    }
   ],
   "source": [
    "! pip install easydict"
   ]
  },
  {
   "cell_type": "code",
   "execution_count": 2,
   "metadata": {},
   "outputs": [],
   "source": [
    "from __future__ import print_function\n",
    "\n",
    "%load_ext autoreload\n",
    "%autoreload 2\n",
    "\n",
    "import scipy as sp\n",
    "import scipy.misc\n",
    "import ast\n",
    "import os\n",
    "import sys\n",
    "sys.path.insert(0, os.path.abspath('/kaggle/input/ivanfashionablecode/Design-Inspiration-from-Generative-Networks-master/'))\n",
    "\n",
    "import skimage\n",
    "import imageio\n",
    "from itertools import islice\n",
    "import matplotlib.pyplot as plt\n",
    "from PIL import Image\n",
    "import numpy as np\n",
    "from math import log10\n",
    "import easydict\n",
    "\n",
    "from IPython.display import clear_output\n",
    "from IPython.core.debugger import set_trace\n",
    "\n",
    "from torchvision.transforms import Resize, ToTensor, Normalize\n",
    "import re\n",
    "import torch\n",
    "from torch import nn \n",
    "from torch.nn import functional as F\n",
    "import torch.optim as optim\n",
    "from torch.utils.data import Dataset, DataLoader\n",
    "from torchvision import models\n",
    "import torch.backends.cudnn as cudnn\n",
    "import torchvision\n",
    "import torch.nn.functional as F\n",
    "from skimage import segmentation\n",
    "\n",
    "from tqdm import tqdm_notebook\n",
    "\n",
    "from shutil import rmtree\n",
    "import json\n",
    "from IPython.display import clear_output\n",
    "from torch import autograd\n",
    "\n",
    "from skimage import io\n",
    "from skimage.feature import canny\n",
    "from skimage.morphology import dilation, disk\n",
    "from skimage.color import rgb2gray\n",
    "\n",
    "from skimage.filters import threshold_otsu, gaussian\n",
    "from skimage.segmentation import clear_border\n",
    "from skimage.measure import label, regionprops\n",
    "from utils import vis_batch, collate_fn, tensor2numpy\n",
    "from encoder_decoder import MaskDecoder, MaskEncoder\n",
    "\n"
   ]
  },
  {
   "cell_type": "code",
   "execution_count": null,
   "metadata": {},
   "outputs": [],
   "source": [
    "!cp '/kaggle/input/ivanfashionablecode/Design-Inspiration-from-Generative-Networks-master/README.md' .\n",
    "from IPython.display import FileLinks\n",
    "\n",
    "FileLinks('.')"
   ]
  },
  {
   "cell_type": "code",
   "execution_count": 3,
   "metadata": {},
   "outputs": [],
   "source": [
    "plt.rcParams['image.cmap'] = 'gray'"
   ]
  },
  {
   "cell_type": "code",
   "execution_count": 4,
   "metadata": {},
   "outputs": [],
   "source": [
    "device = 'cuda'"
   ]
  },
  {
   "cell_type": "code",
   "execution_count": 5,
   "metadata": {},
   "outputs": [],
   "source": [
    "import os\n",
    "import skimage\n",
    "import imageio\n",
    "from PIL import Image\n",
    "from skimage import io\n",
    "import numpy as np\n",
    "from torchvision.transforms import Resize, ToTensor, Normalize\n",
    "import torch\n",
    "import ast\n",
    "from utils import image2edges, edges2mask, tensor2numpy\n",
    "from torch.utils.data import Dataset\n",
    "\n",
    "class FashionEdgesDataset(Dataset):\n",
    "    def __init__(self, \n",
    "                 images_fold, \n",
    "                 attr_file=None, \n",
    "                 check_corrupted=False,\n",
    "                 return_mask=True):\n",
    "        \n",
    "        self.corrupted_images = set()\n",
    "        self.check_corrupted = check_corrupted\n",
    "        self.images_fold = images_fold\n",
    "        self.return_mask = return_mask\n",
    "        \n",
    "        if attr_file is not None:\n",
    "            images2attr_dict = {}\n",
    "            with open(attr_file, 'r') as f:\n",
    "                dicts = f.readlines()\n",
    "            for d in tqdm_notebook(dicts):\n",
    "                dct = ast.literal_eval(d)\n",
    "                image_name = dct['image']\n",
    "                \n",
    "                if check_corrupted:\n",
    "                    img = Image.open(os.path.join(self.images_fold, image_name))\n",
    "                    if not self._is_appropriate(np.array(img)):\n",
    "                        self.corrupted_images.add(image_name)\n",
    "                        continue\n",
    "\n",
    "                images2attr_dict[image_name] = dct['attributes']\n",
    "                \n",
    "            self.images2attr = images2attr_dict\n",
    "            self.images_names = list(images2attr_dict.keys())\n",
    "        else:\n",
    "            self.images_names = os.listdir(self.images_fold)\n",
    "    \n",
    "    def _is_appropriate(self, img, thresh = 10):\n",
    "    \n",
    "        return np.all(img[:thresh,:thresh] == 255)\n",
    "    \n",
    "    def __getitem__(self, idx):\n",
    "        \n",
    "        image_name = self.images_names[idx]\n",
    "        img = Image.open(os.path.join(self.images_fold, image_name))#.convert('RGB')        \n",
    "        if not self.check_corrupted and not self._is_appropriate(np.array(img)):\n",
    "            return None\n",
    "        \n",
    "        img = Resize((128, 128))(img)\n",
    "        \n",
    "        img = ToTensor()(img)\n",
    "        if img.shape[0] > 3:\n",
    "            img = img[:3]\n",
    "        \n",
    "        img_np = tensor2numpy(img)\n",
    "\n",
    "        edges_np = image2edges(img_np)\n",
    "        edges = torch.tensor(edges_np, dtype=torch.float32).unsqueeze(0)\n",
    "        if self.return_mask:\n",
    "            mask = edges2mask(edges_np)\n",
    "            mask = torch.tensor(mask, dtype=torch.float32).unsqueeze(0)\n",
    "            return edges, mask, img\n",
    "        else:\n",
    "            return edges, img   \n",
    "\n",
    "    def __len__(self):\n",
    "        return len(self.images_names)\n"
   ]
  },
  {
   "cell_type": "markdown",
   "metadata": {},
   "source": [
    "# Autoencoder clusterization"
   ]
  },
  {
   "cell_type": "code",
   "execution_count": 6,
   "metadata": {},
   "outputs": [],
   "source": [
    "#from dataset import FashionEdgesDataset\n",
    "\n",
    "all_set = FashionEdgesDataset('/kaggle/input/fashionismyprofession/cp-vton/')\n",
    "train_set, val_set = torch.utils.data.random_split(all_set, [\n",
    "    int(len(all_set) * 0.9),\n",
    "    len(all_set) - int(len(all_set) * 0.9)\n",
    "])\n",
    "training_data_loader = DataLoader(dataset=train_set,\n",
    "                                  batch_size=64, \n",
    "                                  collate_fn=collate_fn,\n",
    "                                  num_workers=2,\n",
    "                                  shuffle=True)\n",
    "validation_data_loader = DataLoader(dataset=val_set,\n",
    "                                  batch_size=64, \n",
    "                                  collate_fn=collate_fn,\n",
    "                                  num_workers=2,\n",
    "                                  shuffle=False)"
   ]
  },
  {
   "cell_type": "code",
   "execution_count": 7,
   "metadata": {},
   "outputs": [],
   "source": [
    "encoder = MaskEncoder(128).to(device)\n",
    "decoder = MaskDecoder(128).to(device)\n",
    "opt = optim.Adam(list(encoder.parameters()) + list(decoder.parameters()))"
   ]
  },
  {
   "cell_type": "code",
   "execution_count": null,
   "metadata": {},
   "outputs": [],
   "source": [
    "from IPython.display import clear_output\n",
    "\n",
    "criterionL2 = nn.MSELoss().to(device)\n",
    "n_epochs = 10\n",
    "n_show = 5\n",
    "\n",
    "all_train_loss = []\n",
    "all_val_loss = []\n",
    "\n",
    "for epoch in range(n_epochs):\n",
    "    train_loss = 0\n",
    "    for _, mask in tqdm_notebook(training_data_loader):\n",
    "        mask = mask.to(device)\n",
    "        autoencode_mask = decoder(encoder(mask))\n",
    "        loss = criterionL2(mask, autoencode_mask)\n",
    "        train_loss += loss.item()\n",
    "        loss.backward()\n",
    "        opt.step()\n",
    "        opt.zero_grad()\n",
    "    \n",
    "    train_loss /= len(training_data_loader)\n",
    "    all_train_loss.append(train_loss)\n",
    "    \n",
    "    torch.save({\n",
    "        'encoder': encoder.state_dict(),\n",
    "        'decoder': decoder.state_dict()\n",
    "    }, '/kaggle/working/encoder_decoder_{0}.pt'.format(epoch))\n",
    "    \n",
    "    val_loss = 0\n",
    "    for _, mask in tqdm_notebook(validation_data_loader):\n",
    "        mask = mask.to(device)\n",
    "        autoencode_mask = decoder(encoder(mask))\n",
    "        loss = criterionL2(mask, autoencode_mask)\n",
    "        val_loss += loss.item()\n",
    "    \n",
    "    val_loss /= len(validation_data_loader)\n",
    "    all_val_loss.append(val_loss)\n",
    "    \n",
    "    clear_output()\n",
    "    plt.figure(figsize=(10, 6))\n",
    "    plt.plot(all_train_loss, label='train')\n",
    "    plt.plot(all_val_loss, label='val')\n",
    "    plt.grid(ls=':')\n",
    "    plt.legend()\n",
    "    plt.show()\n",
    "    \n",
    "    for _, mask in validation_data_loader:\n",
    "        draw_batch = mask[:n_show].to(device)\n",
    "        break\n",
    "    recover_batch = decoder(encoder(draw_batch))\n",
    "    \n",
    "    plt.figure(figsize=(15, 3))\n",
    "    for i in range(n_show):\n",
    "        plt.subplot(1, n_show, i + 1)\n",
    "        plt.imshow(draw_batch[i][0].cpu().data.numpy())\n",
    "    plt.show()\n",
    "    \n",
    "    plt.figure(figsize=(15, 3))\n",
    "    for i in range(n_show):\n",
    "        plt.subplot(1, n_show, i + 1)\n",
    "        plt.imshow(recover_batch[i][0].cpu().data.numpy())\n",
    "    plt.show()"
   ]
  },
  {
   "cell_type": "code",
   "execution_count": 12,
   "metadata": {},
   "outputs": [
    {
     "name": "stdout",
     "output_type": "stream",
     "text": [
      "fashionismyprofession  fashionweights  ivanfashionablecode\r\n"
     ]
    }
   ],
   "source": [
    "! ls ../input"
   ]
  },
  {
   "cell_type": "code",
   "execution_count": 15,
   "metadata": {},
   "outputs": [
    {
     "data": {
      "text/plain": [
       "<All keys matched successfully>"
      ]
     },
     "execution_count": 15,
     "metadata": {},
     "output_type": "execute_result"
    }
   ],
   "source": [
    "state_dict = torch.load('/kaggle/input/fashionweights/encoder_decoder_9.pt')\n",
    "encoder.load_state_dict(state_dict['encoder'])\n",
    "decoder.load_state_dict(state_dict['decoder'])"
   ]
  },
  {
   "cell_type": "code",
   "execution_count": 16,
   "metadata": {},
   "outputs": [
    {
     "name": "stderr",
     "output_type": "stream",
     "text": [
      "/opt/conda/lib/python3.6/site-packages/ipykernel_launcher.py:3: TqdmDeprecationWarning: This function will be removed in tqdm==5.0.0\n",
      "Please use `tqdm.notebook.tqdm` instead of `tqdm.tqdm_notebook`\n",
      "  This is separate from the ipykernel package so we can avoid doing imports until\n"
     ]
    },
    {
     "data": {
      "application/vnd.jupyter.widget-view+json": {
       "model_id": "5ad43c225add442086119ee35371af87",
       "version_major": 2,
       "version_minor": 0
      },
      "text/plain": [
       "HBox(children=(IntProgress(value=0, max=223), HTML(value='')))"
      ]
     },
     "metadata": {},
     "output_type": "display_data"
    },
    {
     "name": "stdout",
     "output_type": "stream",
     "text": [
      "\n"
     ]
    }
   ],
   "source": [
    "all_data_loader = DataLoader(dataset=all_set, batch_size=64, collate_fn=collate_fn, num_workers=2, shuffle=False)\n",
    "all_encoded = []\n",
    "for _, batch in tqdm_notebook(all_data_loader):\n",
    "    batch = batch.to(device)\n",
    "    encoded = encoder(batch).cpu().data.numpy()\n",
    "    all_encoded.append(encoded)\n",
    "all_encoded = np.vstack(all_encoded)"
   ]
  },
  {
   "cell_type": "code",
   "execution_count": 19,
   "metadata": {},
   "outputs": [],
   "source": [
    "from sklearn.cluster import DBSCAN\n",
    "\n",
    "clst = DBSCAN(eps=9)\n",
    "labels = clst.fit_predict(all_encoded)"
   ]
  },
  {
   "cell_type": "code",
   "execution_count": 20,
   "metadata": {},
   "outputs": [
    {
     "data": {
      "text/plain": [
       "array([-1,  0,  1,  2,  3,  4,  5,  6,  7,  8,  9, 10, 11, 12, 13, 14, 15,\n",
       "       16, 17, 18, 19, 20, 21, 22, 23, 24, 25, 26, 27, 28, 29, 30, 31, 32,\n",
       "       33, 34, 35, 36, 37, 38, 39, 40, 41, 42, 43, 44, 45, 46, 47, 48, 49,\n",
       "       50, 51, 52, 53, 54, 55, 56, 57, 58, 59])"
      ]
     },
     "execution_count": 20,
     "metadata": {},
     "output_type": "execute_result"
    }
   ],
   "source": [
    "np.unique(labels)"
   ]
  },
  {
   "cell_type": "code",
   "execution_count": 31,
   "metadata": {},
   "outputs": [
    {
     "data": {
      "image/png": "[encoded data removed]",
      "text/plain": [
       "<Figure size 1080x1080 with 25 Axes>"
      ]
     },
     "metadata": {},
     "output_type": "display_data"
    }
   ],
   "source": [
    "plt.figure(figsize=(15, 15))\n",
    "for l in np.unique(labels)[1:]:\n",
    "    indices = np.where(labels == l)[0]\n",
    "    j = -1\n",
    "    for i in range(5):\n",
    "        j += 1\n",
    "        plt.subplot(5, 5, 5 * l + i + 1)\n",
    "        if i == 0:\n",
    "            plt.ylabel('{}'.format(l), fontsize=28)\n",
    "        while j < len(indices) and all_set[indices[j]] is None:\n",
    "            j +=1\n",
    "        plt.imshow(all_set[indices[j]][1].cpu().data.numpy()[0])\n",
    "        if j == len(indices):\n",
    "            break\n",
    "        plt.xticks([], [])\n",
    "        plt.yticks([], [])\n",
    "    if l == 4:\n",
    "        break\n",
    "plt.show()"
   ]
  },
  {
   "cell_type": "markdown",
   "metadata": {},
   "source": [
    "# Classic CV clusterization"
   ]
  },
  {
   "cell_type": "code",
   "execution_count": 32,
   "metadata": {},
   "outputs": [],
   "source": [
    "import cv2\n",
    "import numpy as np\n",
    "\n",
    "def get_shape_descriptor(img):\n",
    "    contours,hierarchy = cv2.findContours(img, cv2.RETR_TREE, cv2.CHAIN_APPROX_NONE)\n",
    "    moments = cv2.moments(contours[0])\n",
    "\n",
    "    cx = int(moments['m10']/moments['m00'])\n",
    "    cy = int(moments['m01']/moments['m00'])\n",
    "    w, h = img.shape\n",
    "\n",
    "    translation_matrix = np.float32([ [1,0,h//2 -cx], [0,1,w//2 -cy] ])\n",
    "    img_centered = cv2.warpAffine(img, translation_matrix, (w, h), borderValue=255)\n",
    "\n",
    "    img_gray = cv2.bitwise_not(img_centered).astype(np.float32)\n",
    "\n",
    "    #--- the following holds the square root of the sum of squares of the image dimensions ---\n",
    "    #--- this is done so that the entire width/height of the original image is used to express the complete circular range of the resulting polar image ---\n",
    "    value = np.sqrt(((img_gray.shape[0]/2.0)**2.0)+((img_gray.shape[1]/2.0)**2.0))\n",
    "\n",
    "    polar_image = cv2.linearPolar(img_gray, (img_gray.shape[0]//2, img_gray.shape[1]//2), value, cv2.WARP_FILL_OUTLIERS)\n",
    "    shape_descriptor = polar_image.mean(axis=1)\n",
    "    \n",
    "    return shape_descriptor"
   ]
  },
  {
   "cell_type": "code",
   "execution_count": 33,
   "metadata": {},
   "outputs": [
    {
     "name": "stderr",
     "output_type": "stream",
     "text": [
      "/opt/conda/lib/python3.6/site-packages/ipykernel_launcher.py:3: TqdmDeprecationWarning: This function will be removed in tqdm==5.0.0\n",
      "Please use `tqdm.notebook.tqdm` instead of `tqdm.tqdm_notebook`\n",
      "  This is separate from the ipykernel package so we can avoid doing imports until\n"
     ]
    },
    {
     "data": {
      "application/vnd.jupyter.widget-view+json": {
       "model_id": "302f3006ecec4500bece765811fff781",
       "version_major": 2,
       "version_minor": 0
      },
      "text/plain": [
       "HBox(children=(IntProgress(value=0, max=223), HTML(value='')))"
      ]
     },
     "metadata": {},
     "output_type": "display_data"
    },
    {
     "name": "stdout",
     "output_type": "stream",
     "text": [
      "\n"
     ]
    }
   ],
   "source": [
    "all_data_loader = DataLoader(dataset=all_set, batch_size=64, collate_fn=collate_fn,  shuffle=False)\n",
    "all_encoded = []\n",
    "for _, batch in tqdm_notebook(all_data_loader):\n",
    "    for img in batch.cpu().data.numpy():\n",
    "        img = (255 * (1 - img[0])).astype('uint8')\n",
    "        all_encoded.append(get_shape_descriptor(img))\n",
    "all_encoded = np.vstack(all_encoded)\n",
    "all_encoded = all_encoded / 255\n",
    "all_encoded = (all_encoded - all_encoded.mean(axis=0)) / all_encoded.std(axis=0)  # normalization by each feature"
   ]
  },
  {
   "cell_type": "code",
   "execution_count": 40,
   "metadata": {},
   "outputs": [],
   "source": [
    "from sklearn.cluster import DBSCAN\n",
    "\n",
    "clst = DBSCAN(eps=6)\n",
    "labels = clst.fit_predict(all_encoded)"
   ]
  },
  {
   "cell_type": "code",
   "execution_count": 41,
   "metadata": {},
   "outputs": [
    {
     "data": {
      "text/plain": [
       "array([-1,  0,  1,  2,  3,  4,  5,  6,  7,  8,  9, 10, 11, 12, 13, 14, 15])"
      ]
     },
     "execution_count": 41,
     "metadata": {},
     "output_type": "execute_result"
    }
   ],
   "source": [
    "np.unique(labels)"
   ]
  },
  {
   "cell_type": "code",
   "execution_count": 42,
   "metadata": {},
   "outputs": [
    {
     "data": {
      "image/png": "[encoded data removed]",
      "text/plain": [
       "<Figure size 1080x1080 with 25 Axes>"
      ]
     },
     "metadata": {},
     "output_type": "display_data"
    }
   ],
   "source": [
    "plt.figure(figsize=(15, 15))\n",
    "for l in np.unique(labels)[1:]:\n",
    "    indices = np.where(labels == l)[0]\n",
    "    j = -1\n",
    "    for i in range(5):\n",
    "        j += 1\n",
    "        plt.subplot(5, 5, 5 * l + i + 1)\n",
    "        if i == 0:\n",
    "            plt.ylabel('{}'.format(l), fontsize=28)\n",
    "        while j < len(indices) and all_set[indices[j]] is None:\n",
    "            j +=1\n",
    "        plt.imshow(all_set[indices[j]][1].cpu().data.numpy()[0])\n",
    "        if j == len(indices):\n",
    "            break\n",
    "        plt.xticks([], [])\n",
    "        plt.yticks([], [])\n",
    "    if l == 4:\n",
    "        break\n",
    "plt.show()"
   ]
  }
 ],
 "metadata": {
  "kernelspec": {
   "display_name": "Python 3",
   "language": "python",
   "name": "python3"
  },
  "language_info": {
   "codemirror_mode": {
    "name": "ipython",
    "version": 3
   },
   "file_extension": ".py",
   "mimetype": "text/x-python",
   "name": "python",
   "nbconvert_exporter": "python",
   "pygments_lexer": "ipython3",
   "version": "3.6.9"
  }
 },
 "nbformat": 4,
 "nbformat_minor": 1
}
